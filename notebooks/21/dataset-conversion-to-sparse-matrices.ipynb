{
 "cells": [
  {
   "cell_type": "markdown",
   "metadata": {},
   "source": [
    "# Dataset Conversion to Sparse Matricies"
   ]
  },
  {
   "cell_type": "code",
   "execution_count": 1,
   "metadata": {},
   "outputs": [],
   "source": [
    "import matplotlib.pyplot as plt\n",
    "import numpy as np\n",
    "import pandas as pd\n",
    "import scipy as sp\n",
    "import scipy.sparse"
   ]
  },
  {
   "cell_type": "code",
   "execution_count": 2,
   "metadata": {},
   "outputs": [],
   "source": [
    "from collections import Counter\n",
    "from os.path import join, realpath"
   ]
  },
  {
   "cell_type": "code",
   "execution_count": 3,
   "metadata": {},
   "outputs": [],
   "source": [
    "from matplotlib.patches import Rectangle"
   ]
  },
  {
   "cell_type": "code",
   "execution_count": 4,
   "metadata": {},
   "outputs": [],
   "source": [
    "from mlbootcamp import rnd21\n",
    "from mlbootcamp.rnd21.util import iou"
   ]
  },
  {
   "cell_type": "markdown",
   "metadata": {},
   "source": [
    "## Load and Preprocess Data"
   ]
  },
  {
   "cell_type": "code",
   "execution_count": 5,
   "metadata": {},
   "outputs": [],
   "source": [
    "train_data = pd.read_parquet('../../data/round/21/train_data.parquet')\n",
    "train_ans = pd.read_parquet('../../data/round/21/train_ans.parquet')\n",
    "test_data = pd.read_parquet('../../data/round/21/test_data.parquet')"
   ]
  },
  {
   "cell_type": "markdown",
   "metadata": {},
   "source": [
    "## Multiple Markups of the Same Item"
   ]
  },
  {
   "cell_type": "markdown",
   "metadata": {},
   "source": [
    "In both dataset and submission set there are duplicated records by pair user id and item id. It is important that there is only one such duplicate per dataset and submission set (two duplicates in total). We are intended to reveal origins of such duplicates, connection between markups and correct answer.\n",
    "\n",
    "As we see below it seems that there are two bounding boxes on item. Each user who marked up the item marks exactely two bounding boxes i.e. there is not any other markups of the same item."
   ]
  },
  {
   "cell_type": "code",
   "execution_count": 6,
   "metadata": {},
   "outputs": [
    {
     "data": {
      "text/html": [
       "<div>\n",
       "<style scoped>\n",
       "    .dataframe tbody tr th:only-of-type {\n",
       "        vertical-align: middle;\n",
       "    }\n",
       "\n",
       "    .dataframe tbody tr th {\n",
       "        vertical-align: top;\n",
       "    }\n",
       "\n",
       "    .dataframe thead th {\n",
       "        text-align: right;\n",
       "    }\n",
       "</style>\n",
       "<table border=\"1\" class=\"dataframe\">\n",
       "  <thead>\n",
       "    <tr style=\"text-align: right;\">\n",
       "      <th></th>\n",
       "      <th></th>\n",
       "      <th>x_min</th>\n",
       "      <th>y_min</th>\n",
       "      <th>x_max</th>\n",
       "      <th>y_max</th>\n",
       "    </tr>\n",
       "    <tr>\n",
       "      <th>user_id</th>\n",
       "      <th>item_id</th>\n",
       "      <th></th>\n",
       "      <th></th>\n",
       "      <th></th>\n",
       "      <th></th>\n",
       "    </tr>\n",
       "  </thead>\n",
       "  <tbody>\n",
       "    <tr>\n",
       "      <th rowspan=\"2\" valign=\"top\">141</th>\n",
       "      <th>32</th>\n",
       "      <td>21</td>\n",
       "      <td>279</td>\n",
       "      <td>388</td>\n",
       "      <td>624</td>\n",
       "    </tr>\n",
       "    <tr>\n",
       "      <th>32</th>\n",
       "      <td>42</td>\n",
       "      <td>799</td>\n",
       "      <td>128</td>\n",
       "      <td>881</td>\n",
       "    </tr>\n",
       "    <tr>\n",
       "      <th rowspan=\"2\" valign=\"top\">366</th>\n",
       "      <th>32</th>\n",
       "      <td>9</td>\n",
       "      <td>321</td>\n",
       "      <td>387</td>\n",
       "      <td>638</td>\n",
       "    </tr>\n",
       "    <tr>\n",
       "      <th>32</th>\n",
       "      <td>39</td>\n",
       "      <td>809</td>\n",
       "      <td>128</td>\n",
       "      <td>884</td>\n",
       "    </tr>\n",
       "    <tr>\n",
       "      <th rowspan=\"2\" valign=\"top\">903</th>\n",
       "      <th>32</th>\n",
       "      <td>17</td>\n",
       "      <td>319</td>\n",
       "      <td>380</td>\n",
       "      <td>631</td>\n",
       "    </tr>\n",
       "    <tr>\n",
       "      <th>32</th>\n",
       "      <td>41</td>\n",
       "      <td>809</td>\n",
       "      <td>126</td>\n",
       "      <td>883</td>\n",
       "    </tr>\n",
       "  </tbody>\n",
       "</table>\n",
       "</div>"
      ],
      "text/plain": [
       "                 x_min  y_min  x_max  y_max\n",
       "user_id item_id                            \n",
       "141     32          21    279    388    624\n",
       "        32          42    799    128    881\n",
       "366     32           9    321    387    638\n",
       "        32          39    809    128    884\n",
       "903     32          17    319    380    631\n",
       "        32          41    809    126    883"
      ]
     },
     "execution_count": 6,
     "metadata": {},
     "output_type": "execute_result"
    }
   ],
   "source": [
    "train_cnt = Counter([tuple(x) for x in train_data[['user_id', 'item_id']].values.tolist()])\n",
    "train_idx = [x for x, y in train_cnt.most_common(10) if y > 1]\n",
    "train_dups = train_data.set_index(['user_id', 'item_id']).loc[train_idx]\n",
    "train_dups"
   ]
  },
  {
   "cell_type": "code",
   "execution_count": 7,
   "metadata": {},
   "outputs": [
    {
     "data": {
      "text/plain": [
       "6"
      ]
     },
     "execution_count": 7,
     "metadata": {},
     "output_type": "execute_result"
    }
   ],
   "source": [
    "len(train_data[train_data.item_id == 32])"
   ]
  },
  {
   "cell_type": "markdown",
   "metadata": {},
   "source": [
    "The same is true for submission set."
   ]
  },
  {
   "cell_type": "code",
   "execution_count": 8,
   "metadata": {},
   "outputs": [
    {
     "data": {
      "text/html": [
       "<div>\n",
       "<style scoped>\n",
       "    .dataframe tbody tr th:only-of-type {\n",
       "        vertical-align: middle;\n",
       "    }\n",
       "\n",
       "    .dataframe tbody tr th {\n",
       "        vertical-align: top;\n",
       "    }\n",
       "\n",
       "    .dataframe thead th {\n",
       "        text-align: right;\n",
       "    }\n",
       "</style>\n",
       "<table border=\"1\" class=\"dataframe\">\n",
       "  <thead>\n",
       "    <tr style=\"text-align: right;\">\n",
       "      <th></th>\n",
       "      <th></th>\n",
       "      <th>x_min</th>\n",
       "      <th>y_min</th>\n",
       "      <th>x_max</th>\n",
       "      <th>y_max</th>\n",
       "    </tr>\n",
       "    <tr>\n",
       "      <th>user_id</th>\n",
       "      <th>item_id</th>\n",
       "      <th></th>\n",
       "      <th></th>\n",
       "      <th></th>\n",
       "      <th></th>\n",
       "    </tr>\n",
       "  </thead>\n",
       "  <tbody>\n",
       "    <tr>\n",
       "      <th rowspan=\"2\" valign=\"top\">1195</th>\n",
       "      <th>146</th>\n",
       "      <td>84</td>\n",
       "      <td>729</td>\n",
       "      <td>643</td>\n",
       "      <td>1091</td>\n",
       "    </tr>\n",
       "    <tr>\n",
       "      <th>146</th>\n",
       "      <td>51</td>\n",
       "      <td>226</td>\n",
       "      <td>542</td>\n",
       "      <td>545</td>\n",
       "    </tr>\n",
       "    <tr>\n",
       "      <th rowspan=\"2\" valign=\"top\">1383</th>\n",
       "      <th>146</th>\n",
       "      <td>120</td>\n",
       "      <td>735</td>\n",
       "      <td>602</td>\n",
       "      <td>1071</td>\n",
       "    </tr>\n",
       "    <tr>\n",
       "      <th>146</th>\n",
       "      <td>83</td>\n",
       "      <td>231</td>\n",
       "      <td>506</td>\n",
       "      <td>528</td>\n",
       "    </tr>\n",
       "    <tr>\n",
       "      <th rowspan=\"2\" valign=\"top\">422</th>\n",
       "      <th>146</th>\n",
       "      <td>45</td>\n",
       "      <td>757</td>\n",
       "      <td>634</td>\n",
       "      <td>1078</td>\n",
       "    </tr>\n",
       "    <tr>\n",
       "      <th>146</th>\n",
       "      <td>17</td>\n",
       "      <td>250</td>\n",
       "      <td>535</td>\n",
       "      <td>534</td>\n",
       "    </tr>\n",
       "    <tr>\n",
       "      <th rowspan=\"2\" valign=\"top\">1725</th>\n",
       "      <th>146</th>\n",
       "      <td>106</td>\n",
       "      <td>712</td>\n",
       "      <td>628</td>\n",
       "      <td>1118</td>\n",
       "    </tr>\n",
       "    <tr>\n",
       "      <th>146</th>\n",
       "      <td>70</td>\n",
       "      <td>211</td>\n",
       "      <td>529</td>\n",
       "      <td>569</td>\n",
       "    </tr>\n",
       "  </tbody>\n",
       "</table>\n",
       "</div>"
      ],
      "text/plain": [
       "                 x_min  y_min  x_max  y_max\n",
       "user_id item_id                            \n",
       "1195    146         84    729    643   1091\n",
       "        146         51    226    542    545\n",
       "1383    146        120    735    602   1071\n",
       "        146         83    231    506    528\n",
       "422     146         45    757    634   1078\n",
       "        146         17    250    535    534\n",
       "1725    146        106    712    628   1118\n",
       "        146         70    211    529    569"
      ]
     },
     "execution_count": 8,
     "metadata": {},
     "output_type": "execute_result"
    }
   ],
   "source": [
    "test_cnt = Counter([tuple(x) for x in test_data[['user_id', 'item_id']].values.tolist()])\n",
    "test_idx = [x for x, y in test_cnt.most_common(10) if y > 1]\n",
    "test_dups = test_data.set_index(['user_id', 'item_id']).loc[test_idx]\n",
    "test_dups"
   ]
  },
  {
   "cell_type": "code",
   "execution_count": 9,
   "metadata": {},
   "outputs": [
    {
     "data": {
      "text/plain": [
       "8"
      ]
     },
     "execution_count": 9,
     "metadata": {},
     "output_type": "execute_result"
    }
   ],
   "source": [
    "len(test_data[test_data.item_id == 146])"
   ]
  },
  {
   "cell_type": "markdown",
   "metadata": {},
   "source": [
    "Now let's see how markups look like. Displayed boxes are obtained from user's markups as well as ground truth. Also there are rectangles which coordinates are mean coordinates over markups of the same user."
   ]
  },
  {
   "cell_type": "code",
   "execution_count": 10,
   "metadata": {},
   "outputs": [],
   "source": [
    "COLORMAP = plt.cm.Set1.colors\n",
    "COLOURS = {}"
   ]
  },
  {
   "cell_type": "code",
   "execution_count": 11,
   "metadata": {
    "scrolled": false
   },
   "outputs": [
    {
     "data": {
      "image/png": "[encoded data removed]",
      "text/plain": [
       "<Figure size 1152x1152 with 1 Axes>"
      ]
     },
     "metadata": {
      "needs_background": "light"
     },
     "output_type": "display_data"
    }
   ],
   "source": [
    "fig = plt.figure(figsize=(16, 16))\n",
    "ax: plt.Axes  = fig.add_subplot(1, 1, 1)\n",
    "ax.grid(False)\n",
    "\n",
    "# Display rectangles in dataset.\n",
    "for i, row in enumerate(train_dups.itertuples()):\n",
    "    if row.Index[0] not in COLOURS:\n",
    "        COLOURS[row.Index[0]] = COLORMAP[len(COLOURS)]\n",
    "        label = f'user {row.Index[0]}'\n",
    "    else:\n",
    "        label = None\n",
    "\n",
    "    origin = (row.x_min, row.y_min)\n",
    "    width = row.x_max - row.x_min\n",
    "    height = row.y_max - row.y_min\n",
    "\n",
    "    ax.add_patch(Rectangle(origin, width, height,\n",
    "         edgecolor=COLOURS[row.Index[0]],\n",
    "         fill=False,\n",
    "         label=label,\n",
    "         linewidth=2,\n",
    "    ))\n",
    "\n",
    "# Display rectangles in dataset which are mean values by user.\n",
    "for uid in train_dups.index.levels[0]:\n",
    "    x_min, y_min, x_max, y_max = train_dups.loc[uid].values.mean(axis=0)\n",
    "    origin = (x_min, y_min)\n",
    "    width = x_max - x_min\n",
    "    height = y_max - y_min\n",
    "\n",
    "    ax.add_patch(Rectangle(origin, width, height,\n",
    "        fill=False,\n",
    "        edgecolor=COLOURS[uid],\n",
    "        linestyle=':',\n",
    "        linewidth=2,\n",
    "    ))\n",
    "\n",
    "# Display ground truth rectangle.\n",
    "row = train_ans.loc[32]\n",
    "origin = (row.x_min, row.y_min)\n",
    "width = row.x_max - row.x_min\n",
    "height = row.y_max - row.y_min\n",
    "\n",
    "ax.add_patch(Rectangle(origin, width, height,\n",
    "    fill=False,\n",
    "    edgecolor='k',\n",
    "    linewidth=2,\n",
    "    label='reference',\n",
    "))\n",
    "\n",
    "ax.legend()\n",
    "ax.set_xlim(0, 1000)\n",
    "ax.set_ylim(0, 1000)\n",
    "plt.show()"
   ]
  },
  {
   "cell_type": "markdown",
   "metadata": {},
   "source": [
    "It seems that averaging is a good estimation for a markup of such items. So, we will drop duplicated rows below and insert averaged markups."
   ]
  },
  {
   "cell_type": "code",
   "execution_count": 12,
   "metadata": {},
   "outputs": [
    {
     "data": {
      "text/html": [
       "<div>\n",
       "<style scoped>\n",
       "    .dataframe tbody tr th:only-of-type {\n",
       "        vertical-align: middle;\n",
       "    }\n",
       "\n",
       "    .dataframe tbody tr th {\n",
       "        vertical-align: top;\n",
       "    }\n",
       "\n",
       "    .dataframe thead th {\n",
       "        text-align: right;\n",
       "    }\n",
       "</style>\n",
       "<table border=\"1\" class=\"dataframe\">\n",
       "  <thead>\n",
       "    <tr style=\"text-align: right;\">\n",
       "      <th></th>\n",
       "      <th></th>\n",
       "      <th>x_min</th>\n",
       "      <th>y_min</th>\n",
       "      <th>x_max</th>\n",
       "      <th>y_max</th>\n",
       "    </tr>\n",
       "    <tr>\n",
       "      <th>user_id</th>\n",
       "      <th>item_id</th>\n",
       "      <th></th>\n",
       "      <th></th>\n",
       "      <th></th>\n",
       "      <th></th>\n",
       "    </tr>\n",
       "  </thead>\n",
       "  <tbody>\n",
       "    <tr>\n",
       "      <th rowspan=\"2\" valign=\"top\">141</th>\n",
       "      <th>32</th>\n",
       "      <td>21</td>\n",
       "      <td>279</td>\n",
       "      <td>388</td>\n",
       "      <td>624</td>\n",
       "    </tr>\n",
       "    <tr>\n",
       "      <th>32</th>\n",
       "      <td>42</td>\n",
       "      <td>799</td>\n",
       "      <td>128</td>\n",
       "      <td>881</td>\n",
       "    </tr>\n",
       "    <tr>\n",
       "      <th rowspan=\"2\" valign=\"top\">366</th>\n",
       "      <th>32</th>\n",
       "      <td>9</td>\n",
       "      <td>321</td>\n",
       "      <td>387</td>\n",
       "      <td>638</td>\n",
       "    </tr>\n",
       "    <tr>\n",
       "      <th>32</th>\n",
       "      <td>39</td>\n",
       "      <td>809</td>\n",
       "      <td>128</td>\n",
       "      <td>884</td>\n",
       "    </tr>\n",
       "    <tr>\n",
       "      <th rowspan=\"2\" valign=\"top\">903</th>\n",
       "      <th>32</th>\n",
       "      <td>17</td>\n",
       "      <td>319</td>\n",
       "      <td>380</td>\n",
       "      <td>631</td>\n",
       "    </tr>\n",
       "    <tr>\n",
       "      <th>32</th>\n",
       "      <td>41</td>\n",
       "      <td>809</td>\n",
       "      <td>126</td>\n",
       "      <td>883</td>\n",
       "    </tr>\n",
       "  </tbody>\n",
       "</table>\n",
       "</div>"
      ],
      "text/plain": [
       "                 x_min  y_min  x_max  y_max\n",
       "user_id item_id                            \n",
       "141     32          21    279    388    624\n",
       "        32          42    799    128    881\n",
       "366     32           9    321    387    638\n",
       "        32          39    809    128    884\n",
       "903     32          17    319    380    631\n",
       "        32          41    809    126    883"
      ]
     },
     "execution_count": 12,
     "metadata": {},
     "output_type": "execute_result"
    }
   ],
   "source": [
    "train_dups"
   ]
  },
  {
   "cell_type": "code",
   "execution_count": 13,
   "metadata": {},
   "outputs": [],
   "source": [
    "train_data = train_data \\\n",
    "    .set_index(['user_id', 'item_id']) \\\n",
    "    .drop(index=train_dups.index.get_values()) \\\n",
    "    .reset_index()"
   ]
  },
  {
   "cell_type": "code",
   "execution_count": 14,
   "metadata": {},
   "outputs": [],
   "source": [
    "train_avg = train_dups \\\n",
    "    .groupby('user_id') \\\n",
    "    .mean() \\\n",
    "    .astype(np.int32) \\\n",
    "    .reset_index()\n",
    "train_avg['item_id'] = 32\n",
    "train_avg = train_avg[train_avg.columns[[0, 5, 1, 2, 3, 4]]]"
   ]
  },
  {
   "cell_type": "code",
   "execution_count": 15,
   "metadata": {},
   "outputs": [],
   "source": [
    "train_data = train_data.append(train_avg)"
   ]
  },
  {
   "cell_type": "markdown",
   "metadata": {},
   "source": [
    "## Obtain Unique Identifiers of Items and Users"
   ]
  },
  {
   "cell_type": "code",
   "execution_count": 16,
   "metadata": {},
   "outputs": [
    {
     "data": {
      "text/plain": [
       "array([    5,    10,    13, ..., 35966, 35973, 35978], dtype=int32)"
      ]
     },
     "execution_count": 16,
     "metadata": {},
     "output_type": "execute_result"
    }
   ],
   "source": [
    "item_ids = np.array(list(set(train_data.item_id.values) | set(test_data.item_id.values)), dtype=np.int32)\n",
    "item_ids.sort()\n",
    "item_ids"
   ]
  },
  {
   "cell_type": "code",
   "execution_count": 17,
   "metadata": {},
   "outputs": [
    {
     "data": {
      "text/plain": [
       "array([   0,    1,    2, ..., 1751, 1752, 1753], dtype=int32)"
      ]
     },
     "execution_count": 17,
     "metadata": {},
     "output_type": "execute_result"
    }
   ],
   "source": [
    "user_ids = np.array(list(set(train_data.user_id.values) | set(test_data.user_id.values)), dtype=np.int32)\n",
    "user_ids.sort()\n",
    "user_ids"
   ]
  },
  {
   "cell_type": "markdown",
   "metadata": {},
   "source": [
    "We need to map user id (item id) to index of row (column) of a sparse matrix."
   ]
  },
  {
   "cell_type": "code",
   "execution_count": 18,
   "metadata": {},
   "outputs": [],
   "source": [
    "uid2idx = {uid: idx for idx, uid in enumerate(user_ids)}\n",
    "iid2idx = {iid: idx for idx, iid in enumerate(item_ids)}"
   ]
  },
  {
   "cell_type": "markdown",
   "metadata": {},
   "source": [
    "## Convert Coorinates to Sparse Representation"
   ]
  },
  {
   "cell_type": "markdown",
   "metadata": {},
   "source": [
    "Set multi-index on user id and item id for faster look up of ground truth bounding box which is required for IoU estimation."
   ]
  },
  {
   "cell_type": "code",
   "execution_count": 19,
   "metadata": {},
   "outputs": [
    {
     "data": {
      "text/html": [
       "<div>\n",
       "<style scoped>\n",
       "    .dataframe tbody tr th:only-of-type {\n",
       "        vertical-align: middle;\n",
       "    }\n",
       "\n",
       "    .dataframe tbody tr th {\n",
       "        vertical-align: top;\n",
       "    }\n",
       "\n",
       "    .dataframe thead th {\n",
       "        text-align: right;\n",
       "    }\n",
       "</style>\n",
       "<table border=\"1\" class=\"dataframe\">\n",
       "  <thead>\n",
       "    <tr style=\"text-align: right;\">\n",
       "      <th></th>\n",
       "      <th>x_min</th>\n",
       "      <th>y_min</th>\n",
       "      <th>x_max</th>\n",
       "      <th>y_max</th>\n",
       "    </tr>\n",
       "    <tr>\n",
       "      <th>item_id</th>\n",
       "      <th></th>\n",
       "      <th></th>\n",
       "      <th></th>\n",
       "      <th></th>\n",
       "    </tr>\n",
       "  </thead>\n",
       "  <tbody>\n",
       "    <tr>\n",
       "      <th>5</th>\n",
       "      <td>198</td>\n",
       "      <td>827</td>\n",
       "      <td>649</td>\n",
       "      <td>1340</td>\n",
       "    </tr>\n",
       "    <tr>\n",
       "      <th>10</th>\n",
       "      <td>26</td>\n",
       "      <td>605</td>\n",
       "      <td>433</td>\n",
       "      <td>847</td>\n",
       "    </tr>\n",
       "    <tr>\n",
       "      <th>13</th>\n",
       "      <td>233</td>\n",
       "      <td>698</td>\n",
       "      <td>622</td>\n",
       "      <td>920</td>\n",
       "    </tr>\n",
       "    <tr>\n",
       "      <th>30</th>\n",
       "      <td>61</td>\n",
       "      <td>368</td>\n",
       "      <td>329</td>\n",
       "      <td>530</td>\n",
       "    </tr>\n",
       "    <tr>\n",
       "      <th>32</th>\n",
       "      <td>30</td>\n",
       "      <td>536</td>\n",
       "      <td>328</td>\n",
       "      <td>813</td>\n",
       "    </tr>\n",
       "  </tbody>\n",
       "</table>\n",
       "</div>"
      ],
      "text/plain": [
       "         x_min  y_min  x_max  y_max\n",
       "item_id                            \n",
       "5          198    827    649   1340\n",
       "10          26    605    433    847\n",
       "13         233    698    622    920\n",
       "30          61    368    329    530\n",
       "32          30    536    328    813"
      ]
     },
     "execution_count": 19,
     "metadata": {},
     "output_type": "execute_result"
    }
   ],
   "source": [
    "train_ans = train_ans.set_index(['item_id'])\n",
    "train_ans.sort_index(inplace=True)\n",
    "train_ans.head()"
   ]
  },
  {
   "cell_type": "markdown",
   "metadata": {},
   "source": [
    "Store indices which corresponds to objects from dataset and submission (subm) set."
   ]
  },
  {
   "cell_type": "code",
   "execution_count": 20,
   "metadata": {},
   "outputs": [],
   "source": [
    "dataset_indices = np.zeros((len(train_data), 2), dtype=np.int)\n",
    "submset_indices = np.zeros((len(test_data), 2), dtype=np.int)"
   ]
  },
  {
   "cell_type": "markdown",
   "metadata": {},
   "source": [
    "Use LiL matrices on building per each coordinate of bounding box. Also, use another one LiL matrix to store IoU score for each labeled object."
   ]
  },
  {
   "cell_type": "code",
   "execution_count": 21,
   "metadata": {},
   "outputs": [],
   "source": [
    "shape = (user_ids.size, item_ids.size)\n",
    "\n",
    "xmin = sp.sparse.lil_matrix(shape, dtype=np.int32)\n",
    "xmax = sp.sparse.lil_matrix(shape, dtype=np.int32)\n",
    "ymin = sp.sparse.lil_matrix(shape, dtype=np.int32)\n",
    "ymax = sp.sparse.lil_matrix(shape, dtype=np.int32)\n",
    "ioum = sp.sparse.lil_matrix(shape, dtype=np.float)"
   ]
  },
  {
   "cell_type": "markdown",
   "metadata": {},
   "source": [
    "Iterates over dataset rows and submission set rows and fill coordinates arrays."
   ]
  },
  {
   "cell_type": "code",
   "execution_count": 22,
   "metadata": {},
   "outputs": [],
   "source": [
    "for i, (_, (uid, iid, x_min, y_min, x_max, y_max)) in enumerate(train_data.iterrows()):\n",
    "    dataset_indices[i, :] = (uid2idx[uid], iid2idx[iid])\n",
    "    xmin[uid2idx[uid], iid2idx[iid]] = x_min\n",
    "    xmax[uid2idx[uid], iid2idx[iid]] = x_max\n",
    "    ymin[uid2idx[uid], iid2idx[iid]] = y_min\n",
    "    ymax[uid2idx[uid], iid2idx[iid]] = y_max\n",
    "    \n",
    "    ground = train_ans.loc[iid].values\n",
    "    ioum[uid2idx[uid], iid2idx[iid]] = iou((x_min, y_min, x_max, y_max), ground)\n",
    "\n",
    "for i, (_, (uid, iid, x_min, y_min, x_max, y_max)) in enumerate(test_data.iterrows()):\n",
    "    submset_indices[i, :] = (uid2idx[uid], iid2idx[iid])\n",
    "    xmin[uid2idx[uid], iid2idx[iid]] = x_min\n",
    "    xmax[uid2idx[uid], iid2idx[iid]] = x_max\n",
    "    ymin[uid2idx[uid], iid2idx[iid]] = y_min\n",
    "    ymax[uid2idx[uid], iid2idx[iid]] = y_max"
   ]
  },
  {
   "cell_type": "code",
   "execution_count": 23,
   "metadata": {},
   "outputs": [],
   "source": [
    "xmin = xmin.tocsr()\n",
    "ymin = ymin.tocsr()\n",
    "xmax = xmax.tocsr()\n",
    "ymax = ymax.tocsr()\n",
    "ioum = ioum.tocsr()"
   ]
  },
  {
   "cell_type": "markdown",
   "metadata": {},
   "source": [
    "## Save Data to Filesystem"
   ]
  },
  {
   "cell_type": "code",
   "execution_count": 24,
   "metadata": {},
   "outputs": [],
   "source": [
    "OUTDIR = realpath('../../data/round/21')"
   ]
  },
  {
   "cell_type": "markdown",
   "metadata": {},
   "source": [
    "Save sorted item ids and user ids."
   ]
  },
  {
   "cell_type": "code",
   "execution_count": 25,
   "metadata": {},
   "outputs": [],
   "source": [
    "np.save(join(OUTDIR, 'item-ids.npy'), item_ids)\n",
    "np.save(join(OUTDIR, 'user-ids.npy'), user_ids)"
   ]
  },
  {
   "cell_type": "markdown",
   "metadata": {},
   "source": [
    "Save indices of objects from both dataset and submission set."
   ]
  },
  {
   "cell_type": "code",
   "execution_count": 26,
   "metadata": {},
   "outputs": [],
   "source": [
    "np.save(join(OUTDIR, 'indices-dataset.npy'), dataset_indices)\n",
    "np.save(join(OUTDIR, 'indices-submset.npy'), submset_indices)"
   ]
  },
  {
   "cell_type": "markdown",
   "metadata": {},
   "source": [
    "Save coordinates of boxes as a sparse matrix."
   ]
  },
  {
   "cell_type": "code",
   "execution_count": 27,
   "metadata": {},
   "outputs": [],
   "source": [
    "sp.sparse.save_npz(join(OUTDIR, 'xmin.npz'), xmin)\n",
    "sp.sparse.save_npz(join(OUTDIR, 'ymin.npz'), ymin)\n",
    "sp.sparse.save_npz(join(OUTDIR, 'xmax.npz'), xmax)\n",
    "sp.sparse.save_npz(join(OUTDIR, 'ymax.npz'), ymax)"
   ]
  },
  {
   "cell_type": "markdown",
   "metadata": {},
   "source": [
    "Save values of IoU for each known object."
   ]
  },
  {
   "cell_type": "code",
   "execution_count": 28,
   "metadata": {},
   "outputs": [],
   "source": [
    "sp.sparse.save_npz(join(OUTDIR, 'ioum.npz'), ioum)"
   ]
  }
 ],
 "metadata": {
  "kernelspec": {
   "display_name": "[ML Bootcamp]",
   "language": "python",
   "name": "python-mlbootcamp"
  },
  "language_info": {
   "codemirror_mode": {
    "name": "ipython",
    "version": 3
   },
   "file_extension": ".py",
   "mimetype": "text/x-python",
   "name": "python",
   "nbconvert_exporter": "python",
   "pygments_lexer": "ipython3",
   "version": "3.7.3"
  }
 },
 "nbformat": 4,
 "nbformat_minor": 2
}

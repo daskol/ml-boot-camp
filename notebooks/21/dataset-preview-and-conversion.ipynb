{
 "cells": [
  {
   "cell_type": "markdown",
   "metadata": {},
   "source": [
    "# Dataset Preview and Conversion"
   ]
  },
  {
   "cell_type": "code",
   "execution_count": 1,
   "metadata": {},
   "outputs": [],
   "source": [
    "import pandas as pd\n",
    "import pyarrow as pa\n",
    "import pyarrow.parquet"
   ]
  },
  {
   "cell_type": "code",
   "execution_count": 2,
   "metadata": {},
   "outputs": [],
   "source": [
    "from os.path import join, realpath\n",
    "from typing import List"
   ]
  },
  {
   "cell_type": "markdown",
   "metadata": {},
   "source": [
    "## Load Dataset From CSV Files"
   ]
  },
  {
   "cell_type": "code",
   "execution_count": 3,
   "metadata": {},
   "outputs": [
    {
     "data": {
      "text/html": [
       "<div>\n",
       "<style scoped>\n",
       "    .dataframe tbody tr th:only-of-type {\n",
       "        vertical-align: middle;\n",
       "    }\n",
       "\n",
       "    .dataframe tbody tr th {\n",
       "        vertical-align: top;\n",
       "    }\n",
       "\n",
       "    .dataframe thead th {\n",
       "        text-align: right;\n",
       "    }\n",
       "</style>\n",
       "<table border=\"1\" class=\"dataframe\">\n",
       "  <thead>\n",
       "    <tr style=\"text-align: right;\">\n",
       "      <th></th>\n",
       "      <th>userId</th>\n",
       "      <th>itemId</th>\n",
       "      <th>Xmin</th>\n",
       "      <th>Ymin</th>\n",
       "      <th>Xmax</th>\n",
       "      <th>Ymax</th>\n",
       "    </tr>\n",
       "  </thead>\n",
       "  <tbody>\n",
       "    <tr>\n",
       "      <th>0</th>\n",
       "      <td>1164</td>\n",
       "      <td>6132</td>\n",
       "      <td>62</td>\n",
       "      <td>656</td>\n",
       "      <td>276</td>\n",
       "      <td>803</td>\n",
       "    </tr>\n",
       "    <tr>\n",
       "      <th>1</th>\n",
       "      <td>1399</td>\n",
       "      <td>6132</td>\n",
       "      <td>184</td>\n",
       "      <td>662</td>\n",
       "      <td>235</td>\n",
       "      <td>740</td>\n",
       "    </tr>\n",
       "    <tr>\n",
       "      <th>2</th>\n",
       "      <td>1694</td>\n",
       "      <td>6132</td>\n",
       "      <td>63</td>\n",
       "      <td>648</td>\n",
       "      <td>272</td>\n",
       "      <td>830</td>\n",
       "    </tr>\n",
       "    <tr>\n",
       "      <th>3</th>\n",
       "      <td>916</td>\n",
       "      <td>6132</td>\n",
       "      <td>111</td>\n",
       "      <td>637</td>\n",
       "      <td>253</td>\n",
       "      <td>831</td>\n",
       "    </tr>\n",
       "    <tr>\n",
       "      <th>4</th>\n",
       "      <td>1621</td>\n",
       "      <td>6132</td>\n",
       "      <td>60</td>\n",
       "      <td>651</td>\n",
       "      <td>242</td>\n",
       "      <td>819</td>\n",
       "    </tr>\n",
       "  </tbody>\n",
       "</table>\n",
       "</div>"
      ],
      "text/plain": [
       "   userId  itemId  Xmin  Ymin  Xmax  Ymax\n",
       "0    1164    6132    62   656   276   803\n",
       "1    1399    6132   184   662   235   740\n",
       "2    1694    6132    63   648   272   830\n",
       "3     916    6132   111   637   253   831\n",
       "4    1621    6132    60   651   242   819"
      ]
     },
     "execution_count": 3,
     "metadata": {},
     "output_type": "execute_result"
    }
   ],
   "source": [
    "train_data = pd.read_csv('../../data/round/21/train_data.csv')\n",
    "train_data.head()"
   ]
  },
  {
   "cell_type": "code",
   "execution_count": 4,
   "metadata": {},
   "outputs": [
    {
     "data": {
      "text/html": [
       "<div>\n",
       "<style scoped>\n",
       "    .dataframe tbody tr th:only-of-type {\n",
       "        vertical-align: middle;\n",
       "    }\n",
       "\n",
       "    .dataframe tbody tr th {\n",
       "        vertical-align: top;\n",
       "    }\n",
       "\n",
       "    .dataframe thead th {\n",
       "        text-align: right;\n",
       "    }\n",
       "</style>\n",
       "<table border=\"1\" class=\"dataframe\">\n",
       "  <thead>\n",
       "    <tr style=\"text-align: right;\">\n",
       "      <th></th>\n",
       "      <th>itemId</th>\n",
       "      <th>Xmin_true</th>\n",
       "      <th>Ymin_true</th>\n",
       "      <th>Xmax_true</th>\n",
       "      <th>Ymax_true</th>\n",
       "    </tr>\n",
       "  </thead>\n",
       "  <tbody>\n",
       "    <tr>\n",
       "      <th>0</th>\n",
       "      <td>5</td>\n",
       "      <td>198</td>\n",
       "      <td>827</td>\n",
       "      <td>649</td>\n",
       "      <td>1340</td>\n",
       "    </tr>\n",
       "    <tr>\n",
       "      <th>1</th>\n",
       "      <td>10</td>\n",
       "      <td>26</td>\n",
       "      <td>605</td>\n",
       "      <td>433</td>\n",
       "      <td>847</td>\n",
       "    </tr>\n",
       "    <tr>\n",
       "      <th>2</th>\n",
       "      <td>13</td>\n",
       "      <td>233</td>\n",
       "      <td>698</td>\n",
       "      <td>622</td>\n",
       "      <td>920</td>\n",
       "    </tr>\n",
       "    <tr>\n",
       "      <th>3</th>\n",
       "      <td>30</td>\n",
       "      <td>61</td>\n",
       "      <td>368</td>\n",
       "      <td>329</td>\n",
       "      <td>530</td>\n",
       "    </tr>\n",
       "    <tr>\n",
       "      <th>4</th>\n",
       "      <td>32</td>\n",
       "      <td>30</td>\n",
       "      <td>536</td>\n",
       "      <td>328</td>\n",
       "      <td>813</td>\n",
       "    </tr>\n",
       "  </tbody>\n",
       "</table>\n",
       "</div>"
      ],
      "text/plain": [
       "   itemId  Xmin_true  Ymin_true  Xmax_true  Ymax_true\n",
       "0       5        198        827        649       1340\n",
       "1      10         26        605        433        847\n",
       "2      13        233        698        622        920\n",
       "3      30         61        368        329        530\n",
       "4      32         30        536        328        813"
      ]
     },
     "execution_count": 4,
     "metadata": {},
     "output_type": "execute_result"
    }
   ],
   "source": [
    "train_ans = pd.read_csv('../../data/round/21/train_answers.csv')\n",
    "train_ans.head()"
   ]
  },
  {
   "cell_type": "code",
   "execution_count": 5,
   "metadata": {},
   "outputs": [
    {
     "data": {
      "text/html": [
       "<div>\n",
       "<style scoped>\n",
       "    .dataframe tbody tr th:only-of-type {\n",
       "        vertical-align: middle;\n",
       "    }\n",
       "\n",
       "    .dataframe tbody tr th {\n",
       "        vertical-align: top;\n",
       "    }\n",
       "\n",
       "    .dataframe thead th {\n",
       "        text-align: right;\n",
       "    }\n",
       "</style>\n",
       "<table border=\"1\" class=\"dataframe\">\n",
       "  <thead>\n",
       "    <tr style=\"text-align: right;\">\n",
       "      <th></th>\n",
       "      <th>userId</th>\n",
       "      <th>itemId</th>\n",
       "      <th>Xmin</th>\n",
       "      <th>Ymin</th>\n",
       "      <th>Xmax</th>\n",
       "      <th>Ymax</th>\n",
       "    </tr>\n",
       "  </thead>\n",
       "  <tbody>\n",
       "    <tr>\n",
       "      <th>0</th>\n",
       "      <td>1581</td>\n",
       "      <td>34804</td>\n",
       "      <td>86</td>\n",
       "      <td>640</td>\n",
       "      <td>242</td>\n",
       "      <td>743</td>\n",
       "    </tr>\n",
       "    <tr>\n",
       "      <th>1</th>\n",
       "      <td>1351</td>\n",
       "      <td>34804</td>\n",
       "      <td>85</td>\n",
       "      <td>655</td>\n",
       "      <td>273</td>\n",
       "      <td>766</td>\n",
       "    </tr>\n",
       "    <tr>\n",
       "      <th>2</th>\n",
       "      <td>161</td>\n",
       "      <td>34804</td>\n",
       "      <td>85</td>\n",
       "      <td>648</td>\n",
       "      <td>268</td>\n",
       "      <td>748</td>\n",
       "    </tr>\n",
       "    <tr>\n",
       "      <th>3</th>\n",
       "      <td>313</td>\n",
       "      <td>5704</td>\n",
       "      <td>32</td>\n",
       "      <td>618</td>\n",
       "      <td>647</td>\n",
       "      <td>1268</td>\n",
       "    </tr>\n",
       "    <tr>\n",
       "      <th>4</th>\n",
       "      <td>1097</td>\n",
       "      <td>5704</td>\n",
       "      <td>25</td>\n",
       "      <td>620</td>\n",
       "      <td>602</td>\n",
       "      <td>1242</td>\n",
       "    </tr>\n",
       "  </tbody>\n",
       "</table>\n",
       "</div>"
      ],
      "text/plain": [
       "   userId  itemId  Xmin  Ymin  Xmax  Ymax\n",
       "0    1581   34804    86   640   242   743\n",
       "1    1351   34804    85   655   273   766\n",
       "2     161   34804    85   648   268   748\n",
       "3     313    5704    32   618   647  1268\n",
       "4    1097    5704    25   620   602  1242"
      ]
     },
     "execution_count": 5,
     "metadata": {},
     "output_type": "execute_result"
    }
   ],
   "source": [
    "test_data = pd.read_csv('../../data/round/21/test_data.csv')\n",
    "test_data.head()"
   ]
  },
  {
   "cell_type": "markdown",
   "metadata": {},
   "source": [
    "## Convert to Parquet Representation"
   ]
  },
  {
   "cell_type": "code",
   "execution_count": 6,
   "metadata": {},
   "outputs": [],
   "source": [
    "outdir = realpath('../../data/round/21')"
   ]
  },
  {
   "cell_type": "code",
   "execution_count": 7,
   "metadata": {},
   "outputs": [],
   "source": [
    "fields = [\n",
    "    pa.field('user_id', pa.int32(), nullable=False),\n",
    "    pa.field('item_id', pa.int32(), nullable=False),\n",
    "    pa.field('x_min', pa.int32(), nullable=False),\n",
    "    pa.field('y_min', pa.int32(), nullable=False),\n",
    "    pa.field('x_max', pa.int32(), nullable=False),\n",
    "    pa.field('y_max', pa.int32(), nullable=False),\n",
    "]"
   ]
  },
  {
   "cell_type": "code",
   "execution_count": 8,
   "metadata": {},
   "outputs": [],
   "source": [
    "def convert(frame: pd.DataFrame, fields: List[pa.Field], where: str):\n",
    "    arrays: List[pa.Array] = [pa.array(frame[colname].values) for colname in frame.columns]\n",
    "    table: pa.Table = pa.Table.from_arrays(arrays, schema=pa.schema(fields))\n",
    "    pa.parquet.write_table(table=table,\n",
    "                           where=where,\n",
    "                           version='2.0',\n",
    "                           compression='ZSTD')"
   ]
  },
  {
   "cell_type": "code",
   "execution_count": 9,
   "metadata": {},
   "outputs": [],
   "source": [
    "convert(train_data, fields, join(outdir, 'train_data.parquet'))\n",
    "convert(train_ans, fields[1:], join(outdir, 'train_ans.parquet'))\n",
    "convert(test_data, fields, join(outdir, 'test_data.parquet'))"
   ]
  }
 ],
 "metadata": {
  "kernelspec": {
   "display_name": "[ML Bootcamp]",
   "language": "python",
   "name": "python-mlbootcamp"
  },
  "language_info": {
   "codemirror_mode": {
    "name": "ipython",
    "version": 3
   },
   "file_extension": ".py",
   "mimetype": "text/x-python",
   "name": "python",
   "nbconvert_exporter": "python",
   "pygments_lexer": "ipython3",
   "version": "3.7.3"
  }
 },
 "nbformat": 4,
 "nbformat_minor": 2
}

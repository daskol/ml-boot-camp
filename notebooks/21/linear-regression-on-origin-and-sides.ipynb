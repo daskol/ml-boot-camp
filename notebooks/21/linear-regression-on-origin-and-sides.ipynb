{
 "cells": [
  {
   "cell_type": "markdown",
   "metadata": {},
   "source": [
    "# Linear Regression for Origin and Sides"
   ]
  },
  {
   "cell_type": "markdown",
   "metadata": {},
   "source": [
    "Идея в том, что подход в лоб подразумевает построение регрессии, чтобы предсказать координаты прямоугольника. Кажетсся, что полученная на основе подобных предсказаний оценка положения центра прямоугольнка будет менее шумной."
   ]
  },
  {
   "cell_type": "code",
   "execution_count": 1,
   "metadata": {},
   "outputs": [],
   "source": [
    "import matplotlib.pyplot as plt\n",
    "import numpy as np\n",
    "import pandas as pd\n",
    "import scipy as sp\n",
    "import scipy.stats"
   ]
  },
  {
   "cell_type": "code",
   "execution_count": 2,
   "metadata": {},
   "outputs": [],
   "source": [
    "from os.path import join"
   ]
  },
  {
   "cell_type": "code",
   "execution_count": 3,
   "metadata": {},
   "outputs": [],
   "source": [
    "from matplotlib.patches import Rectangle\n",
    "from sklearn.linear_model import LinearRegression\n",
    "from sklearn.model_selection import train_test_split\n",
    "from tqdm import tqdm"
   ]
  },
  {
   "cell_type": "code",
   "execution_count": 4,
   "metadata": {},
   "outputs": [],
   "source": [
    "from mlbootcamp.rnd21.bbox_regression import BoundingBoxRegressor\n",
    "from mlbootcamp.rnd21.util import iou, miou"
   ]
  },
  {
   "cell_type": "markdown",
   "metadata": {},
   "source": [
    "Загрузим данные."
   ]
  },
  {
   "cell_type": "code",
   "execution_count": 5,
   "metadata": {},
   "outputs": [],
   "source": [
    "DATADIR = '../../data/round/21'"
   ]
  },
  {
   "cell_type": "code",
   "execution_count": 6,
   "metadata": {},
   "outputs": [],
   "source": [
    "user = pd.read_parquet(join(DATADIR, 'train_data.parquet')) \\\n",
    "    .set_index(['item_id', 'user_id']) \\\n",
    "    .sort_index()\n",
    "true = pd.read_parquet(join(DATADIR, 'train_ans.parquet')) \\\n",
    "    .set_index('item_id') \\\n",
    "    .sort_index()"
   ]
  },
  {
   "cell_type": "markdown",
   "metadata": {},
   "source": [
    "Обучим регрессор на всех данных и применим тоже ко всем данным, что не очень корректно, так как все выводы будут смещены к завышению целевой метрике."
   ]
  },
  {
   "cell_type": "code",
   "execution_count": 7,
   "metadata": {},
   "outputs": [],
   "source": [
    "reg = BoundingBoxRegressor(\n",
    "    denoising=False,\n",
    ").fit(user.reset_index().copy(), true.reset_index().copy())"
   ]
  },
  {
   "cell_type": "code",
   "execution_count": 8,
   "metadata": {},
   "outputs": [
    {
     "data": {
      "text/html": [
       "<div>\n",
       "<style scoped>\n",
       "    .dataframe tbody tr th:only-of-type {\n",
       "        vertical-align: middle;\n",
       "    }\n",
       "\n",
       "    .dataframe tbody tr th {\n",
       "        vertical-align: top;\n",
       "    }\n",
       "\n",
       "    .dataframe thead th {\n",
       "        text-align: right;\n",
       "    }\n",
       "</style>\n",
       "<table border=\"1\" class=\"dataframe\">\n",
       "  <thead>\n",
       "    <tr style=\"text-align: right;\">\n",
       "      <th></th>\n",
       "      <th>x_min</th>\n",
       "      <th>y_min</th>\n",
       "      <th>x_max</th>\n",
       "      <th>y_max</th>\n",
       "    </tr>\n",
       "    <tr>\n",
       "      <th>item_id</th>\n",
       "      <th></th>\n",
       "      <th></th>\n",
       "      <th></th>\n",
       "      <th></th>\n",
       "    </tr>\n",
       "  </thead>\n",
       "  <tbody>\n",
       "    <tr>\n",
       "      <th>5</th>\n",
       "      <td>117.029505</td>\n",
       "      <td>928.058811</td>\n",
       "      <td>524.577536</td>\n",
       "      <td>1287.084254</td>\n",
       "    </tr>\n",
       "    <tr>\n",
       "      <th>10</th>\n",
       "      <td>80.107715</td>\n",
       "      <td>568.217123</td>\n",
       "      <td>416.471435</td>\n",
       "      <td>842.299116</td>\n",
       "    </tr>\n",
       "    <tr>\n",
       "      <th>13</th>\n",
       "      <td>89.746040</td>\n",
       "      <td>605.254701</td>\n",
       "      <td>569.010876</td>\n",
       "      <td>996.667290</td>\n",
       "    </tr>\n",
       "    <tr>\n",
       "      <th>30</th>\n",
       "      <td>72.050067</td>\n",
       "      <td>353.691004</td>\n",
       "      <td>299.382133</td>\n",
       "      <td>512.130942</td>\n",
       "    </tr>\n",
       "    <tr>\n",
       "      <th>32</th>\n",
       "      <td>32.658963</td>\n",
       "      <td>324.641134</td>\n",
       "      <td>464.608755</td>\n",
       "      <td>710.183106</td>\n",
       "    </tr>\n",
       "  </tbody>\n",
       "</table>\n",
       "</div>"
      ],
      "text/plain": [
       "              x_min       y_min       x_max        y_max\n",
       "item_id                                                 \n",
       "5        117.029505  928.058811  524.577536  1287.084254\n",
       "10        80.107715  568.217123  416.471435   842.299116\n",
       "13        89.746040  605.254701  569.010876   996.667290\n",
       "30        72.050067  353.691004  299.382133   512.130942\n",
       "32        32.658963  324.641134  464.608755   710.183106"
      ]
     },
     "execution_count": 8,
     "metadata": {},
     "output_type": "execute_result"
    }
   ],
   "source": [
    "pred = reg.predict(user.reset_index()).set_index('item_id')\n",
    "pred.head()"
   ]
  },
  {
   "cell_type": "markdown",
   "metadata": {},
   "source": [
    "## Линейная регрессия по центрам прямоугольников"
   ]
  },
  {
   "cell_type": "code",
   "execution_count": 9,
   "metadata": {},
   "outputs": [],
   "source": [
    "def centering(row):\n",
    "    return 0.5 * (row.x_min + row.x_max), 0.5 * (row.y_min + row.y_max)"
   ]
  },
  {
   "cell_type": "code",
   "execution_count": 10,
   "metadata": {},
   "outputs": [
    {
     "data": {
      "text/html": [
       "<div>\n",
       "<style scoped>\n",
       "    .dataframe tbody tr th:only-of-type {\n",
       "        vertical-align: middle;\n",
       "    }\n",
       "\n",
       "    .dataframe tbody tr th {\n",
       "        vertical-align: top;\n",
       "    }\n",
       "\n",
       "    .dataframe thead th {\n",
       "        text-align: right;\n",
       "    }\n",
       "</style>\n",
       "<table border=\"1\" class=\"dataframe\">\n",
       "  <thead>\n",
       "    <tr style=\"text-align: right;\">\n",
       "      <th></th>\n",
       "      <th>x_min</th>\n",
       "      <th>y_min</th>\n",
       "      <th>x_max</th>\n",
       "      <th>y_max</th>\n",
       "      <th>x_cent</th>\n",
       "      <th>y_cent</th>\n",
       "    </tr>\n",
       "    <tr>\n",
       "      <th>item_id</th>\n",
       "      <th></th>\n",
       "      <th></th>\n",
       "      <th></th>\n",
       "      <th></th>\n",
       "      <th></th>\n",
       "      <th></th>\n",
       "    </tr>\n",
       "  </thead>\n",
       "  <tbody>\n",
       "    <tr>\n",
       "      <th>5</th>\n",
       "      <td>117.029505</td>\n",
       "      <td>928.058811</td>\n",
       "      <td>524.577536</td>\n",
       "      <td>1287.084254</td>\n",
       "      <td>320.803521</td>\n",
       "      <td>1107.571533</td>\n",
       "    </tr>\n",
       "    <tr>\n",
       "      <th>10</th>\n",
       "      <td>80.107715</td>\n",
       "      <td>568.217123</td>\n",
       "      <td>416.471435</td>\n",
       "      <td>842.299116</td>\n",
       "      <td>248.289575</td>\n",
       "      <td>705.258120</td>\n",
       "    </tr>\n",
       "    <tr>\n",
       "      <th>13</th>\n",
       "      <td>89.746040</td>\n",
       "      <td>605.254701</td>\n",
       "      <td>569.010876</td>\n",
       "      <td>996.667290</td>\n",
       "      <td>329.378458</td>\n",
       "      <td>800.960995</td>\n",
       "    </tr>\n",
       "    <tr>\n",
       "      <th>30</th>\n",
       "      <td>72.050067</td>\n",
       "      <td>353.691004</td>\n",
       "      <td>299.382133</td>\n",
       "      <td>512.130942</td>\n",
       "      <td>185.716100</td>\n",
       "      <td>432.910973</td>\n",
       "    </tr>\n",
       "    <tr>\n",
       "      <th>32</th>\n",
       "      <td>32.658963</td>\n",
       "      <td>324.641134</td>\n",
       "      <td>464.608755</td>\n",
       "      <td>710.183106</td>\n",
       "      <td>248.633859</td>\n",
       "      <td>517.412120</td>\n",
       "    </tr>\n",
       "  </tbody>\n",
       "</table>\n",
       "</div>"
      ],
      "text/plain": [
       "              x_min       y_min       x_max        y_max      x_cent  \\\n",
       "item_id                                                                \n",
       "5        117.029505  928.058811  524.577536  1287.084254  320.803521   \n",
       "10        80.107715  568.217123  416.471435   842.299116  248.289575   \n",
       "13        89.746040  605.254701  569.010876   996.667290  329.378458   \n",
       "30        72.050067  353.691004  299.382133   512.130942  185.716100   \n",
       "32        32.658963  324.641134  464.608755   710.183106  248.633859   \n",
       "\n",
       "              y_cent  \n",
       "item_id               \n",
       "5        1107.571533  \n",
       "10        705.258120  \n",
       "13        800.960995  \n",
       "30        432.910973  \n",
       "32        517.412120  "
      ]
     },
     "execution_count": 10,
     "metadata": {},
     "output_type": "execute_result"
    }
   ],
   "source": [
    "concur = pred.copy()\n",
    "concur[['x_cent', 'y_cent']] = concur.apply(centering, axis=1, result_type='expand')\n",
    "concur.head()"
   ]
  },
  {
   "cell_type": "code",
   "execution_count": 11,
   "metadata": {},
   "outputs": [
    {
     "data": {
      "text/html": [
       "<div>\n",
       "<style scoped>\n",
       "    .dataframe tbody tr th:only-of-type {\n",
       "        vertical-align: middle;\n",
       "    }\n",
       "\n",
       "    .dataframe tbody tr th {\n",
       "        vertical-align: top;\n",
       "    }\n",
       "\n",
       "    .dataframe thead th {\n",
       "        text-align: right;\n",
       "    }\n",
       "</style>\n",
       "<table border=\"1\" class=\"dataframe\">\n",
       "  <thead>\n",
       "    <tr style=\"text-align: right;\">\n",
       "      <th></th>\n",
       "      <th>x_min</th>\n",
       "      <th>y_min</th>\n",
       "      <th>x_max</th>\n",
       "      <th>y_max</th>\n",
       "      <th>x_cent</th>\n",
       "      <th>y_cent</th>\n",
       "    </tr>\n",
       "    <tr>\n",
       "      <th>item_id</th>\n",
       "      <th></th>\n",
       "      <th></th>\n",
       "      <th></th>\n",
       "      <th></th>\n",
       "      <th></th>\n",
       "      <th></th>\n",
       "    </tr>\n",
       "  </thead>\n",
       "  <tbody>\n",
       "    <tr>\n",
       "      <th>5</th>\n",
       "      <td>151</td>\n",
       "      <td>914</td>\n",
       "      <td>511</td>\n",
       "      <td>1331</td>\n",
       "      <td>342.833333</td>\n",
       "      <td>1083.666667</td>\n",
       "    </tr>\n",
       "    <tr>\n",
       "      <th>10</th>\n",
       "      <td>72</td>\n",
       "      <td>559</td>\n",
       "      <td>427</td>\n",
       "      <td>858</td>\n",
       "      <td>252.000000</td>\n",
       "      <td>709.000000</td>\n",
       "    </tr>\n",
       "    <tr>\n",
       "      <th>13</th>\n",
       "      <td>46</td>\n",
       "      <td>600</td>\n",
       "      <td>621</td>\n",
       "      <td>981</td>\n",
       "      <td>333.166667</td>\n",
       "      <td>784.833333</td>\n",
       "    </tr>\n",
       "    <tr>\n",
       "      <th>30</th>\n",
       "      <td>65</td>\n",
       "      <td>353</td>\n",
       "      <td>324</td>\n",
       "      <td>491</td>\n",
       "      <td>180.300000</td>\n",
       "      <td>412.400000</td>\n",
       "    </tr>\n",
       "    <tr>\n",
       "      <th>32</th>\n",
       "      <td>9</td>\n",
       "      <td>279</td>\n",
       "      <td>388</td>\n",
       "      <td>884</td>\n",
       "      <td>142.166667</td>\n",
       "      <td>656.416667</td>\n",
       "    </tr>\n",
       "  </tbody>\n",
       "</table>\n",
       "</div>"
      ],
      "text/plain": [
       "         x_min  y_min  x_max  y_max      x_cent       y_cent\n",
       "item_id                                                     \n",
       "5          151    914    511   1331  342.833333  1083.666667\n",
       "10          72    559    427    858  252.000000   709.000000\n",
       "13          46    600    621    981  333.166667   784.833333\n",
       "30          65    353    324    491  180.300000   412.400000\n",
       "32           9    279    388    884  142.166667   656.416667"
      ]
     },
     "execution_count": 11,
     "metadata": {},
     "output_type": "execute_result"
    }
   ],
   "source": [
    "data = user.copy()\n",
    "data[['x_cent', 'y_cent']] = data.apply(centering, axis=1, result_type='expand')\n",
    "data = data \\\n",
    "    .groupby('item_id') \\\n",
    "    .aggregate({'x_min': np.min,\n",
    "                'y_min': np.min,\n",
    "                'x_max': np.max,\n",
    "                'y_max': np.max,\n",
    "                'x_cent': np.mean,\n",
    "                'y_cent': np.mean})\n",
    "data.head()"
   ]
  },
  {
   "cell_type": "code",
   "execution_count": 12,
   "metadata": {},
   "outputs": [
    {
     "data": {
      "text/html": [
       "<div>\n",
       "<style scoped>\n",
       "    .dataframe tbody tr th:only-of-type {\n",
       "        vertical-align: middle;\n",
       "    }\n",
       "\n",
       "    .dataframe tbody tr th {\n",
       "        vertical-align: top;\n",
       "    }\n",
       "\n",
       "    .dataframe thead th {\n",
       "        text-align: right;\n",
       "    }\n",
       "</style>\n",
       "<table border=\"1\" class=\"dataframe\">\n",
       "  <thead>\n",
       "    <tr style=\"text-align: right;\">\n",
       "      <th></th>\n",
       "      <th>x_min</th>\n",
       "      <th>y_min</th>\n",
       "      <th>x_max</th>\n",
       "      <th>y_max</th>\n",
       "      <th>x_cent</th>\n",
       "      <th>y_cent</th>\n",
       "      <th>dx</th>\n",
       "      <th>dy</th>\n",
       "    </tr>\n",
       "    <tr>\n",
       "      <th>item_id</th>\n",
       "      <th></th>\n",
       "      <th></th>\n",
       "      <th></th>\n",
       "      <th></th>\n",
       "      <th></th>\n",
       "      <th></th>\n",
       "      <th></th>\n",
       "      <th></th>\n",
       "    </tr>\n",
       "  </thead>\n",
       "  <tbody>\n",
       "    <tr>\n",
       "      <th>5</th>\n",
       "      <td>198</td>\n",
       "      <td>827</td>\n",
       "      <td>649</td>\n",
       "      <td>1340</td>\n",
       "      <td>423.5</td>\n",
       "      <td>1083.5</td>\n",
       "      <td>451</td>\n",
       "      <td>513</td>\n",
       "    </tr>\n",
       "    <tr>\n",
       "      <th>10</th>\n",
       "      <td>26</td>\n",
       "      <td>605</td>\n",
       "      <td>433</td>\n",
       "      <td>847</td>\n",
       "      <td>229.5</td>\n",
       "      <td>726.0</td>\n",
       "      <td>407</td>\n",
       "      <td>242</td>\n",
       "    </tr>\n",
       "    <tr>\n",
       "      <th>13</th>\n",
       "      <td>233</td>\n",
       "      <td>698</td>\n",
       "      <td>622</td>\n",
       "      <td>920</td>\n",
       "      <td>427.5</td>\n",
       "      <td>809.0</td>\n",
       "      <td>389</td>\n",
       "      <td>222</td>\n",
       "    </tr>\n",
       "    <tr>\n",
       "      <th>30</th>\n",
       "      <td>61</td>\n",
       "      <td>368</td>\n",
       "      <td>329</td>\n",
       "      <td>530</td>\n",
       "      <td>195.0</td>\n",
       "      <td>449.0</td>\n",
       "      <td>268</td>\n",
       "      <td>162</td>\n",
       "    </tr>\n",
       "    <tr>\n",
       "      <th>32</th>\n",
       "      <td>30</td>\n",
       "      <td>536</td>\n",
       "      <td>328</td>\n",
       "      <td>813</td>\n",
       "      <td>179.0</td>\n",
       "      <td>674.5</td>\n",
       "      <td>298</td>\n",
       "      <td>277</td>\n",
       "    </tr>\n",
       "  </tbody>\n",
       "</table>\n",
       "</div>"
      ],
      "text/plain": [
       "         x_min  y_min  x_max  y_max  x_cent  y_cent   dx   dy\n",
       "item_id                                                      \n",
       "5          198    827    649   1340   423.5  1083.5  451  513\n",
       "10          26    605    433    847   229.5   726.0  407  242\n",
       "13         233    698    622    920   427.5   809.0  389  222\n",
       "30          61    368    329    530   195.0   449.0  268  162\n",
       "32          30    536    328    813   179.0   674.5  298  277"
      ]
     },
     "execution_count": 12,
     "metadata": {},
     "output_type": "execute_result"
    }
   ],
   "source": [
    "target = true.copy()\n",
    "target[['x_cent', 'y_cent']] = target.apply(centering, axis=1, result_type='expand')\n",
    "target['dx'] = target.x_max - target.x_min\n",
    "target['dy'] = target.y_max - target.y_min\n",
    "target.head()"
   ]
  },
  {
   "cell_type": "markdown",
   "metadata": {},
   "source": [
    "## Предсказываем центр прямоугольника"
   ]
  },
  {
   "cell_type": "markdown",
   "metadata": {},
   "source": [
    "Как и в общем случае есть несколько способов разобраться с множественными разметками на одну картинку: агреггировать пользовательские разметки, а затем обучить; обучить, а затем агреггировать предсказанные разметки. Как правило на данной задаче предварительная агрегация показывает лучший результат."
   ]
  },
  {
   "cell_type": "markdown",
   "metadata": {},
   "source": [
    "### С предварительной аггрегацией"
   ]
  },
  {
   "cell_type": "markdown",
   "metadata": {},
   "source": [
    "Признаки размножены с помощью простейших полиномиальных и нелинейных преобразований."
   ]
  },
  {
   "cell_type": "code",
   "execution_count": 13,
   "metadata": {},
   "outputs": [],
   "source": [
    "def fit(data):\n",
    "    train_item_ids, test_item_ids = train_test_split(target.index.values, train_size=0.7)\n",
    "\n",
    "    data = data.copy().reset_index()\n",
    "    data['x_min2'] = data.x_min ** 2\n",
    "    data['y_min2'] = data.y_min ** 2\n",
    "    data['x_max2'] = data.x_max ** 2\n",
    "    data['y_max2'] = data.y_max ** 2\n",
    "    data['ln_x_min'] = np.log(data.x_min + 4.5)\n",
    "    data['ln_y_min'] = np.log(data.y_min)\n",
    "    data['ln_x_max'] = np.log(data.x_max)\n",
    "    data['ln_y_max'] = np.log(data.y_max)\n",
    "    data['exp_x_min'] = np.exp(np.minimum(data.x_min, 1e2))\n",
    "    data['exp_y_min'] = np.exp(np.minimum(data.y_min, 1e2))\n",
    "    data['exp_x_max'] = np.exp(np.minimum(data.x_max, 1e2))\n",
    "    data['exp_y_max'] = np.exp(np.minimum(data.y_max, 1e2))\n",
    "    data['width'] = data.x_max - data.x_min\n",
    "    data['height'] = data.y_max - data.y_min\n",
    "    # data['dx/dy'] = data.width / (data.height + 1)\n",
    "    # data['dy/dx'] = data.height / (data.width + 1)\n",
    "    data = data.set_index('item_id')\n",
    "\n",
    "    train_target = target.loc[train_item_ids]\n",
    "    train_data = data.loc[train_item_ids]\n",
    "\n",
    "    test_target = target.loc[test_item_ids]\n",
    "    test_data = data.loc[test_item_ids]\n",
    "\n",
    "    loc = LinearRegression(\n",
    "        normalize=True,\n",
    "    ).fit(train_data.values, train_target[['x_cent', 'y_cent']].values)\n",
    "\n",
    "    pred_target = test_target.copy()\n",
    "    pred_target[['x_cent', 'y_cent']] = loc.predict(test_data.values)\n",
    "\n",
    "    coord_real = test_target[['x_cent', 'y_cent']].values\n",
    "    coord_pred = pred_target[['x_cent', 'y_cent']].values\n",
    "    coord_conc = concur.loc[test_item_ids, ['x_cent', 'y_cent']].values\n",
    "\n",
    "    cent_norms = np.linalg.norm(coord_real - coord_pred, axis=1)\n",
    "    print('cent:', np.mean(cent_norms), np.std(cent_norms), np.median(cent_norms))\n",
    "\n",
    "    conc_norms = np.linalg.norm(coord_real - coord_conc, axis=1)\n",
    "    print('best:', np.mean(conc_norms), np.std(conc_norms), np.median(conc_norms))\n",
    "    return cent_norms, conc_norms"
   ]
  },
  {
   "cell_type": "code",
   "execution_count": 14,
   "metadata": {},
   "outputs": [
    {
     "name": "stdout",
     "output_type": "stream",
     "text": [
      "cent: 59.02261040332015 48.096954211092104 43.73182070146992\n",
      "best: 58.30576726822878 46.482236343500865 41.71147386365696\n",
      "\n",
      "cent: 54.04523170601841 44.8794372809149 39.62737637676648\n",
      "best: 53.72976848189364 44.21666059984945 39.92689463843603\n",
      "\n",
      "cent: 55.88290002911885 47.596639765820726 42.79048182065192\n",
      "best: 54.71554919368101 46.7017193080219 41.77427678697873\n",
      "\n"
     ]
    }
   ],
   "source": [
    "for _ in range(3):\n",
    "    cent_norms, conc_norms = fit(data)\n",
    "    print()"
   ]
  },
  {
   "cell_type": "markdown",
   "metadata": {},
   "source": [
    "Сравниваемся с лучшим алгоритмом. Лучшим алгоритмом на данный момент является посроение линейной регрессии сразу по по четырём координатам прямоугольников."
   ]
  },
  {
   "cell_type": "code",
   "execution_count": 15,
   "metadata": {},
   "outputs": [
    {
     "data": {
      "image/png": "[encoded data removed]",
      "text/plain": [
       "<Figure size 1152x576 with 1 Axes>"
      ]
     },
     "metadata": {
      "needs_background": "light"
     },
     "output_type": "display_data"
    }
   ],
   "source": [
    "fig = plt.figure(figsize=(16, 8))\n",
    "\n",
    "ax = fig.add_subplot(1, 1, 1)\n",
    "ax.plot(sorted(conc_norms, reverse=True), label='best')\n",
    "ax.plot(sorted(cent_norms, reverse=True), label='direct')\n",
    "ax.legend()\n",
    "ax.grid()\n",
    "\n",
    "plt.show()"
   ]
  },
  {
   "cell_type": "markdown",
   "metadata": {},
   "source": [
    "### Без предварительной аггрегации"
   ]
  },
  {
   "cell_type": "markdown",
   "metadata": {},
   "source": [
    "Здесь приходится сделать копию исходных данных, так как на предыдущей итерации разметки были агрегированы."
   ]
  },
  {
   "cell_type": "code",
   "execution_count": 16,
   "metadata": {},
   "outputs": [
    {
     "data": {
      "text/html": [
       "<div>\n",
       "<style scoped>\n",
       "    .dataframe tbody tr th:only-of-type {\n",
       "        vertical-align: middle;\n",
       "    }\n",
       "\n",
       "    .dataframe tbody tr th {\n",
       "        vertical-align: top;\n",
       "    }\n",
       "\n",
       "    .dataframe thead th {\n",
       "        text-align: right;\n",
       "    }\n",
       "</style>\n",
       "<table border=\"1\" class=\"dataframe\">\n",
       "  <thead>\n",
       "    <tr style=\"text-align: right;\">\n",
       "      <th></th>\n",
       "      <th></th>\n",
       "      <th>x_min</th>\n",
       "      <th>y_min</th>\n",
       "      <th>x_max</th>\n",
       "      <th>y_max</th>\n",
       "      <th>x_cent</th>\n",
       "      <th>y_cent</th>\n",
       "    </tr>\n",
       "    <tr>\n",
       "      <th>item_id</th>\n",
       "      <th>user_id</th>\n",
       "      <th></th>\n",
       "      <th></th>\n",
       "      <th></th>\n",
       "      <th></th>\n",
       "      <th></th>\n",
       "      <th></th>\n",
       "    </tr>\n",
       "  </thead>\n",
       "  <tbody>\n",
       "    <tr>\n",
       "      <th rowspan=\"3\" valign=\"top\">5</th>\n",
       "      <th>141</th>\n",
       "      <td>210</td>\n",
       "      <td>925</td>\n",
       "      <td>483</td>\n",
       "      <td>1255</td>\n",
       "      <td>346.5</td>\n",
       "      <td>1090.0</td>\n",
       "    </tr>\n",
       "    <tr>\n",
       "      <th>903</th>\n",
       "      <td>151</td>\n",
       "      <td>917</td>\n",
       "      <td>511</td>\n",
       "      <td>1160</td>\n",
       "      <td>331.0</td>\n",
       "      <td>1038.5</td>\n",
       "    </tr>\n",
       "    <tr>\n",
       "      <th>1723</th>\n",
       "      <td>192</td>\n",
       "      <td>914</td>\n",
       "      <td>510</td>\n",
       "      <td>1331</td>\n",
       "      <td>351.0</td>\n",
       "      <td>1122.5</td>\n",
       "    </tr>\n",
       "    <tr>\n",
       "      <th rowspan=\"2\" valign=\"top\">10</th>\n",
       "      <th>141</th>\n",
       "      <td>95</td>\n",
       "      <td>559</td>\n",
       "      <td>427</td>\n",
       "      <td>852</td>\n",
       "      <td>261.0</td>\n",
       "      <td>705.5</td>\n",
       "    </tr>\n",
       "    <tr>\n",
       "      <th>903</th>\n",
       "      <td>72</td>\n",
       "      <td>570</td>\n",
       "      <td>420</td>\n",
       "      <td>858</td>\n",
       "      <td>246.0</td>\n",
       "      <td>714.0</td>\n",
       "    </tr>\n",
       "  </tbody>\n",
       "</table>\n",
       "</div>"
      ],
      "text/plain": [
       "                 x_min  y_min  x_max  y_max  x_cent  y_cent\n",
       "item_id user_id                                            \n",
       "5       141        210    925    483   1255   346.5  1090.0\n",
       "        903        151    917    511   1160   331.0  1038.5\n",
       "        1723       192    914    510   1331   351.0  1122.5\n",
       "10      141         95    559    427    852   261.0   705.5\n",
       "        903         72    570    420    858   246.0   714.0"
      ]
     },
     "execution_count": 16,
     "metadata": {},
     "output_type": "execute_result"
    }
   ],
   "source": [
    "data = user.copy()\n",
    "data[['x_cent', 'y_cent']] = data.apply(centering, axis=1, result_type='expand')\n",
    "data.head()"
   ]
  },
  {
   "cell_type": "code",
   "execution_count": 17,
   "metadata": {},
   "outputs": [],
   "source": [
    "def fit(data, target):\n",
    "    train_item_ids, test_item_ids = train_test_split(target.index.values, train_size=0.7)\n",
    "    \n",
    "    target = target \\\n",
    "        .copy() \\\n",
    "        .drop(['x_min', 'y_min', 'x_max', 'y_max'], axis=1)\n",
    "\n",
    "    data = data.copy().reset_index()\n",
    "    data['x_min2'] = data.x_min ** 2\n",
    "    data['y_min2'] = data.y_min ** 2\n",
    "    data['x_max2'] = data.x_max ** 2\n",
    "    data['y_max2'] = data.y_max ** 2\n",
    "    data['x_min_y_min'] = data.x_min * data.y_min\n",
    "    data['x_max_y_max'] = data.x_max * data.y_max\n",
    "    data['ln_x_min'] = np.log(data.x_min + 4.5)\n",
    "    data['ln_y_min'] = np.log(data.y_min)\n",
    "    data['ln_x_max'] = np.log(data.x_max)\n",
    "    data['ln_y_max'] = np.log(data.y_max)\n",
    "    data['exp_x_min'] = np.exp(np.minimum(data.x_min, 1e2))\n",
    "    data['exp_y_min'] = np.exp(np.minimum(data.y_min, 1e2))\n",
    "    data['exp_x_max'] = np.exp(np.minimum(data.x_max, 1e2))\n",
    "    data['exp_y_max'] = np.exp(np.minimum(data.y_max, 1e2))\n",
    "    data['width'] = data.x_max - data.x_min\n",
    "    data['height'] = data.y_max - data.y_min\n",
    "#     data['dx/dy'] = data.width / (data.height + 1)\n",
    "#     data['dy/dx'] = data.height / (data.width + 1)\n",
    "    data = data.set_index('item_id')\n",
    "\n",
    "    train_target = target.loc[train_item_ids]\n",
    "    train_data = data.loc[train_item_ids]\n",
    "    train = pd.merge(train_data, train_target, left_index=True, right_index=True)\n",
    "\n",
    "    test_target = target.loc[test_item_ids]\n",
    "    test_data = data.loc[test_item_ids]\n",
    "    test = pd.merge(test_data, test_target, left_index=True, right_index=True)\n",
    "    test = test.rename(columns={'x_cent_y': 'x_cent',\n",
    "                                'y_cent_y': 'y_cent'})\n",
    "\n",
    "    loc = LinearRegression(\n",
    "        normalize=True,\n",
    "    ).fit(train.values[:, :-2], train.values[:, -2:])\n",
    "\n",
    "    pred_target = test[['x_cent', 'y_cent']].copy()\n",
    "    pred_target[['x_cent', 'y_cent']] = loc.predict(test.values[:, :-2])\n",
    "    \n",
    "    coord_real = test_target[['x_cent', 'y_cent']].values\n",
    "    coord_conc = concur.loc[test_item_ids, ['x_cent', 'y_cent']].values\n",
    "    coords = pd.merge(pred_target, test_target, left_index=True, right_index=True) \\\n",
    "        .groupby('item_id') \\\n",
    "        .mean()\n",
    "    coords['norm'] = np.linalg.norm(coords.values[:, :2] - coords.values[:, 2:], axis=1)\n",
    "\n",
    "    conc_norms = np.linalg.norm(coord_real - coord_conc, axis=1)\n",
    "    print(f'best: {np.mean(conc_norms):.3f} ± {np.std(conc_norms):.3f}; {np.median(conc_norms):.3f}')\n",
    "\n",
    "    cent_norms = coords['norm']\n",
    "    print(f'cent: {np.mean(cent_norms):.3f} ± {np.std(cent_norms):.3f}; {np.median(cent_norms):.3f}')\n",
    "    \n",
    "    return cent_norms, conc_norms"
   ]
  },
  {
   "cell_type": "code",
   "execution_count": 18,
   "metadata": {},
   "outputs": [
    {
     "name": "stdout",
     "output_type": "stream",
     "text": [
      "best: 54.707 ± 44.644; 38.826\n",
      "cent: 60.055 ± 47.220; 51.208\n",
      "\n",
      "best: 51.919 ± 44.291; 37.401\n",
      "cent: 57.615 ± 46.094; 44.297\n",
      "\n",
      "best: 50.492 ± 40.714; 38.271\n",
      "cent: 55.339 ± 43.578; 45.515\n",
      "\n"
     ]
    }
   ],
   "source": [
    "for _ in range(3):\n",
    "    cent_norms, conc_norms = fit(data, target)\n",
    "    print()"
   ]
  },
  {
   "cell_type": "markdown",
   "metadata": {},
   "source": [
    "**NB** Агрегация предсказанных центров истинный прямоугольников не дала существенного выигрыша."
   ]
  },
  {
   "cell_type": "markdown",
   "metadata": {},
   "source": [
    "## Построение ансанбля моделей предсказания центра"
   ]
  },
  {
   "cell_type": "markdown",
   "metadata": {},
   "source": [
    "Следующая идея связана с гипотезой, что алгоритмы, построенные на предыдущих стадиях ошибаются по разному, а значит ансамбль таких моделей может показать лучшее качество."
   ]
  },
  {
   "cell_type": "code",
   "execution_count": 19,
   "metadata": {},
   "outputs": [],
   "source": [
    "def fit_after(data, target, train_item_ids, test_item_ids):\n",
    "    target = target \\\n",
    "        .copy() \\\n",
    "        .drop(['x_min', 'y_min', 'x_max', 'y_max'], axis=1)\n",
    "\n",
    "    data = data.copy().reset_index()\n",
    "    data['x_min2'] = data.x_min ** 2\n",
    "    data['y_min2'] = data.y_min ** 2\n",
    "    data['x_max2'] = data.x_max ** 2\n",
    "    data['y_max2'] = data.y_max ** 2\n",
    "    data['x_min_y_min'] = data.x_min * data.y_min\n",
    "    data['x_max_y_max'] = data.x_max * data.y_max\n",
    "    data['ln_x_min'] = np.log(data.x_min + 4.5)\n",
    "    data['ln_y_min'] = np.log(data.y_min)\n",
    "    data['ln_x_max'] = np.log(data.x_max)\n",
    "    data['ln_y_max'] = np.log(data.y_max)\n",
    "    data['exp_x_min'] = np.exp(np.minimum(data.x_min, 1e2))\n",
    "    data['exp_y_min'] = np.exp(np.minimum(data.y_min, 1e2))\n",
    "    data['exp_x_max'] = np.exp(np.minimum(data.x_max, 1e2))\n",
    "    data['exp_y_max'] = np.exp(np.minimum(data.y_max, 1e2))\n",
    "    data['width'] = data.x_max - data.x_min\n",
    "    data['height'] = data.y_max - data.y_min\n",
    "#     data['dx/dy'] = data.width / (data.height + 1)\n",
    "#     data['dy/dx'] = data.height / (data.width + 1)\n",
    "    data = data.set_index('item_id')\n",
    "\n",
    "    train_target = target.loc[train_item_ids]\n",
    "    train_data = data.loc[train_item_ids]\n",
    "    train = pd.merge(train_data, train_target, left_index=True, right_index=True)\n",
    "\n",
    "    test_target = target.loc[test_item_ids]\n",
    "    test_data = data.loc[test_item_ids]\n",
    "    test = pd.merge(test_data, test_target, left_index=True, right_index=True)\n",
    "    test = test.rename(columns={'x_cent_y': 'x_cent',\n",
    "                                'y_cent_y': 'y_cent'})\n",
    "\n",
    "    loc = LinearRegression(\n",
    "        normalize=True,\n",
    "    ).fit(train.values[:, :-2], train.values[:, -2:])\n",
    "\n",
    "    pred_target = test[['x_cent', 'y_cent']].copy()\n",
    "    pred_target[['x_cent', 'y_cent']] = loc.predict(test.values[:, :-2])\n",
    "    \n",
    "    coord_real = test_target[['x_cent', 'y_cent']].values\n",
    "    coords = pd.merge(pred_target, test_target, left_index=True, right_index=True) \\\n",
    "        .groupby('item_id') \\\n",
    "        .mean()\n",
    "    coords = coords.rename(columns={'x_cent_x': 'x_cent', 'y_cent_x': 'y_cent'})\n",
    "    return coords[['x_cent', 'y_cent']].copy().sort_index()\n",
    "\n",
    "\n",
    "def fit_before(data, target, train_item_ids, test_item_ids):\n",
    "    target = target.copy()\n",
    "    data = data.copy().reset_index() \\\n",
    "        .groupby('item_id') \\\n",
    "        .aggregate({'x_min': np.min,\n",
    "                    'y_min': np.min,\n",
    "                    'x_max': np.max,\n",
    "                    'y_max': np.max,\n",
    "                    'x_cent': np.mean,\n",
    "                    'y_cent': np.mean})\n",
    "\n",
    "    data['x_min2'] = data.x_min ** 2\n",
    "    data['y_min2'] = data.y_min ** 2\n",
    "    data['x_max2'] = data.x_max ** 2\n",
    "    data['y_max2'] = data.y_max ** 2\n",
    "    data['ln_x_min'] = np.log(data.x_min + 4.5)\n",
    "    data['ln_y_min'] = np.log(data.y_min)\n",
    "    data['ln_x_max'] = np.log(data.x_max)\n",
    "    data['ln_y_max'] = np.log(data.y_max)\n",
    "    data['exp_x_min'] = np.exp(np.minimum(data.x_min, 1e2))\n",
    "    data['exp_y_min'] = np.exp(np.minimum(data.y_min, 1e2))\n",
    "    data['exp_x_max'] = np.exp(np.minimum(data.x_max, 1e2))\n",
    "    data['exp_y_max'] = np.exp(np.minimum(data.y_max, 1e2))\n",
    "    data['width'] = data.x_max - data.x_min\n",
    "    data['height'] = data.y_max - data.y_min\n",
    "    # data['dx/dy'] = data.width / (data.height + 1)\n",
    "    # data['dy/dx'] = data.height / (data.width + 1)\n",
    "\n",
    "    train_target = target.loc[train_item_ids]\n",
    "    train_data = data.loc[train_item_ids]\n",
    "\n",
    "    test_target = target.loc[test_item_ids]\n",
    "    test_data = data.loc[test_item_ids]\n",
    "\n",
    "    loc = LinearRegression(\n",
    "        normalize=True,\n",
    "    ).fit(train_data.values, train_target[['x_cent', 'y_cent']].values)\n",
    "\n",
    "    pred_target = test_target.copy()\n",
    "    pred_target[['x_cent', 'y_cent']] = loc.predict(test_data.values)\n",
    "    return pred_target[['x_cent', 'y_cent']].copy().sort_index()\n",
    "\n",
    "\n",
    "def fit(data, target):\n",
    "    train_item_ids, test_item_ids = train_test_split(target.index.values, train_size=0.7)\n",
    "    \n",
    "    after = fit_after(data, target, train_item_ids, test_item_ids)\n",
    "    before = fit_before(data, target, train_item_ids, test_item_ids)\n",
    "    result = after.copy() \\\n",
    "        .append(before) \\\n",
    "        .sort_index() \\\n",
    "        .groupby('item_id') \\\n",
    "        .mean()\n",
    "    \n",
    "    coord_real = target.loc[result.index, ['x_cent', 'y_cent']].values\n",
    "    coord_cent = result.loc[result.index, ['x_cent', 'y_cent']].values\n",
    "    coord_best = concur.loc[result.index, ['x_cent', 'y_cent']].values\n",
    "\n",
    "    norms_best = np.linalg.norm(coord_real - coord_best, axis=1)\n",
    "    print(f'best: {np.mean(norms_best):.3f} ± {np.std(norms_best):.3f}; {np.median(norms_best):.3f}')\n",
    "\n",
    "    norms_cent = np.linalg.norm(coord_real - coord_cent, axis=1)\n",
    "    print(f'cent: {np.mean(norms_cent):.3f} ± {np.std(norms_cent):.3f}; {np.median(norms_cent):.3f}')\n",
    "    \n",
    "    return norms_best, norms_cent"
   ]
  },
  {
   "cell_type": "code",
   "execution_count": 20,
   "metadata": {},
   "outputs": [
    {
     "name": "stdout",
     "output_type": "stream",
     "text": [
      "best: 50.923 ± 41.937; 38.248\n",
      "cent: 53.323 ± 44.740; 39.107\n",
      "\n",
      "best: 52.489 ± 42.212; 38.248\n",
      "cent: 54.080 ± 43.223; 43.362\n",
      "\n",
      "best: 56.408 ± 45.204; 41.772\n",
      "cent: 57.542 ± 46.574; 42.573\n",
      "\n"
     ]
    }
   ],
   "source": [
    "for _ in range(3):\n",
    "    cent_norms, conc_norms = fit(data, target)\n",
    "    print()"
   ]
  },
  {
   "cell_type": "code",
   "execution_count": 21,
   "metadata": {},
   "outputs": [
    {
     "data": {
      "image/png": "[encoded data removed]",
      "text/plain": [
       "<Figure size 1152x576 with 2 Axes>"
      ]
     },
     "metadata": {
      "needs_background": "light"
     },
     "output_type": "display_data"
    }
   ],
   "source": [
    "fig = plt.figure(figsize=(16, 8))\n",
    "\n",
    "ax = fig.add_subplot(1, 2, 1)\n",
    "ax.plot(sorted(conc_norms, reverse=False), label='best')\n",
    "ax.plot(sorted(cent_norms, reverse=False), label='cent')\n",
    "ax.legend()\n",
    "ax.grid()\n",
    "\n",
    "ax = fig.add_subplot(1, 2, 2)\n",
    "ax.plot(conc_norms - cent_norms, label='best - cent')\n",
    "ax.legend()\n",
    "ax.grid()\n",
    "\n",
    "plt.show()"
   ]
  },
  {
   "cell_type": "markdown",
   "metadata": {},
   "source": [
    "**NB** Объединение результа работы двух алгоритмов никак не улучшает качество работы. Для аггрегации использовались различные функции: `mean()`, `max()` и `min()`. Разница норм лучшего на данный момент регрессора и регрессора, который напрямую предсказывает координаты центра прямоугольника, колеблется вокруг среднего значения, причём есть выбросы, которые возможно получится сгладить построения ансамбля всех моделей."
   ]
  },
  {
   "cell_type": "markdown",
   "metadata": {},
   "source": [
    "## Построение ансамбля"
   ]
  },
  {
   "cell_type": "markdown",
   "metadata": {},
   "source": [
    "Возможно, что ансамблирование моделей предсказывающих центр и модели, которая предсказывает координаты бокса разом даст лучшее качество."
   ]
  },
  {
   "cell_type": "code",
   "execution_count": 22,
   "metadata": {},
   "outputs": [],
   "source": [
    "def fit_ensamble(data, target):\n",
    "    train_item_ids, test_item_ids = train_test_split(target.index.values, train_size=0.7)\n",
    "    \n",
    "    after = fit_after(data, target, train_item_ids, test_item_ids)\n",
    "    before = fit_before(data, target, train_item_ids, test_item_ids)\n",
    "    result = concur.loc[test_item_ids, ['x_cent', 'y_cent']].copy() \\\n",
    "        .append([after, before]) \\\n",
    "        .sort_index() \\\n",
    "        .groupby('item_id') \\\n",
    "        .median()\n",
    "\n",
    "    coord_real = target.loc[result.index, ['x_cent', 'y_cent']].values\n",
    "    coord_best = concur.loc[result.index, ['x_cent', 'y_cent']].values\n",
    "    coord_ens = result.loc[result.index, ['x_cent', 'y_cent']].values\n",
    "\n",
    "    norms_best = np.linalg.norm(coord_real - coord_best, axis=1)\n",
    "    print(f'best: {np.mean(norms_best):.3f} ± {np.std(norms_best):.3f}; {np.median(norms_best):.3f}')\n",
    "    \n",
    "    norms_ens = np.linalg.norm(coord_real - coord_ens, axis=1)\n",
    "    print(f'ens: {np.mean(norms_ens):.3f} ± {np.std(norms_ens):.3f}; {np.median(norms_ens):.3f}')\n",
    "    \n",
    "    return norms_best, norms_ens"
   ]
  },
  {
   "cell_type": "code",
   "execution_count": 23,
   "metadata": {},
   "outputs": [
    {
     "name": "stdout",
     "output_type": "stream",
     "text": [
      "best: 55.641 ± 45.907; 41.710\n",
      "ens: 55.670 ± 46.153; 41.143\n",
      "\n",
      "best: 48.328 ± 42.785; 32.999\n",
      "ens: 48.266 ± 43.155; 33.209\n",
      "\n",
      "best: 58.118 ± 48.034; 44.035\n",
      "ens: 58.363 ± 48.135; 44.501\n",
      "\n"
     ]
    }
   ],
   "source": [
    "for _ in range(3):\n",
    "    conc_norms, ens_norms = fit_ensamble(data, target)\n",
    "    print()"
   ]
  },
  {
   "cell_type": "code",
   "execution_count": 24,
   "metadata": {},
   "outputs": [
    {
     "data": {
      "image/png": "[encoded data removed]",
      "text/plain": [
       "<Figure size 1152x576 with 2 Axes>"
      ]
     },
     "metadata": {
      "needs_background": "light"
     },
     "output_type": "display_data"
    }
   ],
   "source": [
    "fig = plt.figure(figsize=(16, 8))\n",
    "\n",
    "ax = fig.add_subplot(1, 2, 1)\n",
    "ax.plot(sorted(conc_norms, reverse=False), label='best')\n",
    "ax.plot(sorted(ens_norms, reverse=False), label='ens')\n",
    "ax.legend()\n",
    "ax.grid()\n",
    "\n",
    "ax = fig.add_subplot(1, 2, 2)\n",
    "ax.plot(conc_norms - ens_norms, label='best - ens')\n",
    "ax.legend()\n",
    "ax.grid()\n",
    "\n",
    "plt.show()"
   ]
  },
  {
   "cell_type": "markdown",
   "metadata": {},
   "source": [
    "**NB** Построение ансабля снова показывает себя хуже существующего алгоритма. Голосование средним и медианой лучше всего проявили себя. Выбросы остались, но в основном результаты ансамбля приблизилась к результатам регрессора прямоугольников."
   ]
  },
  {
   "cell_type": "markdown",
   "metadata": {},
   "source": [
    "## Регрессия сторон"
   ]
  },
  {
   "cell_type": "markdown",
   "metadata": {},
   "source": [
    "Предположим, что у нас есть алгортм, предсказывающий положение центра прямоугольника, тогда, чтобы получить координаты прямоугольников, нужно ещё предсказать размеры сторон. Этим сейчас и займёмся."
   ]
  },
  {
   "cell_type": "code",
   "execution_count": 25,
   "metadata": {},
   "outputs": [],
   "source": [
    "def fit_origin(data, target, train_item_ids, test_item_ids):\n",
    "    target = target.copy().sort_index()\n",
    "    data = data.copy().reset_index() \\\n",
    "        .groupby('item_id') \\\n",
    "        .aggregate({'x_min': np.min,\n",
    "                    'y_min': np.min,\n",
    "                    'x_max': np.max,\n",
    "                    'y_max': np.max,\n",
    "                    'x_cent': np.mean,\n",
    "                    'y_cent': np.mean})\n",
    "\n",
    "    data = data.sort_index()\n",
    "    data['x_min2'] = data.x_min ** 2\n",
    "    data['y_min2'] = data.y_min ** 2\n",
    "    data['x_max2'] = data.x_max ** 2\n",
    "    data['y_max2'] = data.y_max ** 2\n",
    "    data['ln_x_min'] = np.log(data.x_min + 4.5)\n",
    "    data['ln_y_min'] = np.log(data.y_min)\n",
    "    data['ln_x_max'] = np.log(data.x_max)\n",
    "    data['ln_y_max'] = np.log(data.y_max)\n",
    "    data['exp_x_min'] = np.exp(np.minimum(data.x_min, 1e2))\n",
    "    data['exp_y_min'] = np.exp(np.minimum(data.y_min, 1e2))\n",
    "    data['exp_x_max'] = np.exp(np.minimum(data.x_max, 1e2))\n",
    "    data['exp_y_max'] = np.exp(np.minimum(data.y_max, 1e2))\n",
    "    data['width'] = data.x_max - data.x_min\n",
    "    data['height'] = data.y_max - data.y_min\n",
    "    # data['dx/dy'] = data.width / (data.height + 1)\n",
    "    # data['dy/dx'] = data.height / (data.width + 1)\n",
    "\n",
    "    train_target = target.loc[train_item_ids]\n",
    "    train_data = data.loc[train_item_ids]\n",
    "\n",
    "    test_target = target.loc[test_item_ids]\n",
    "    test_data = data.loc[test_item_ids]\n",
    "\n",
    "    loc = LinearRegression(\n",
    "        normalize=True,\n",
    "    ).fit(train_data.values, train_target[['x_cent', 'y_cent']].values)\n",
    "\n",
    "    pred_all = target.copy()\n",
    "    pred_all[['x_cent', 'y_cent']] = loc.predict(data.values)\n",
    "    return pred_all[['x_cent', 'y_cent']].copy().sort_index()\n",
    "\n",
    "def fit_sides(data, origin, target, train_item_ids, test_item_ids):\n",
    "    \"\"\"Пытаемся предсказать стороны прямоугольника, зная положение центра.\n",
    "    \"\"\"\n",
    "    target = target.copy()\n",
    "    origin.copy()\n",
    "    data = data.copy().reset_index() \\\n",
    "        .groupby('item_id') \\\n",
    "        .aggregate({'x_min': np.min,\n",
    "                    'y_min': np.min,\n",
    "                    'x_max': np.max,\n",
    "                    'y_max': np.max,\n",
    "                    'x_cent': np.mean,\n",
    "                    'y_cent': np.mean})\n",
    "    \n",
    "    data = pd.merge(data, origin, left_index=True, right_index=True)\n",
    "    data['x_min2'] = data.x_min ** 2\n",
    "    data['y_min2'] = data.y_min ** 2\n",
    "    data['x_max2'] = data.x_max ** 2\n",
    "    data['y_max2'] = data.y_max ** 2\n",
    "    data['ln_x_min'] = np.log(data.x_min + 4.5)\n",
    "    data['ln_y_min'] = np.log(data.y_min)\n",
    "    data['ln_x_max'] = np.log(data.x_max)\n",
    "    data['ln_y_max'] = np.log(data.y_max)\n",
    "#     data['exp_x_min'] = np.exp(np.minimum(data.x_min, 1e2))\n",
    "#     data['exp_y_min'] = np.exp(np.minimum(data.y_min, 1e2))\n",
    "#     data['exp_x_max'] = np.exp(np.minimum(data.x_max, 1e2))\n",
    "#     data['exp_y_max'] = np.exp(np.minimum(data.y_max, 1e2))\n",
    "    data['width'] = data.x_max - data.x_min\n",
    "    data['height'] = data.y_max - data.y_min\n",
    "    \n",
    "    train_target = target.loc[train_item_ids]\n",
    "    train_data = data.loc[train_item_ids]\n",
    "\n",
    "    test_target = target.loc[test_item_ids]\n",
    "    test_data = data.loc[test_item_ids]\n",
    "\n",
    "    loc = LinearRegression(\n",
    "        normalize=True,\n",
    "    ).fit(train_data.values, train_target[['dx', 'dy']].values)\n",
    "\n",
    "    pred_target = test_target.copy()\n",
    "    pred_target[['dx', 'dy']] = loc.predict(test_data.values)\n",
    "    return pred_target[['dx', 'dy']].copy().sort_index()\n",
    "\n",
    "def fit(data, target):\n",
    "    train_item_ids, test_item_ids = train_test_split(target.index.values, train_size=0.7)\n",
    "\n",
    "    origin = fit_origin(data, target, train_item_ids, test_item_ids)    \n",
    "    sides = fit_sides(data, origin, target, train_item_ids, test_item_ids)\n",
    "    \n",
    "    boxes = pd.merge(origin, sides, how='right', left_index=True, right_index=True)\n",
    "    boxes['x_min'] = boxes.x_cent - boxes.dx / 2\n",
    "    boxes['x_max'] = boxes.x_cent + boxes.dx / 2\n",
    "    boxes['y_min'] = boxes.y_cent - boxes.dy / 2\n",
    "    boxes['y_max'] = boxes.y_cent + boxes.dy / 2\n",
    "    boxes = boxes.sort_index()\n",
    "\n",
    "    lhs = boxes[['x_min', 'y_min', 'x_max', 'y_max']].values\n",
    "    rhs = target.loc[test_item_ids] \\\n",
    "        .sort_index() \\\n",
    "        [['x_min', 'y_min', 'x_max', 'y_max']].values\n",
    "    \n",
    "    reg = BoundingBoxRegressor(\n",
    "        denoising=False,\n",
    "    ).fit(\n",
    "        data.loc[train_item_ids].copy()[['x_min', 'y_min', 'x_max', 'y_max']].reset_index(),\n",
    "        target.loc[train_item_ids].copy()[['x_min', 'y_min', 'x_max', 'y_max']].reset_index().copy(),\n",
    "    ).predict(\n",
    "        data.loc[test_item_ids].reset_index(),\n",
    "    ).set_index('item_id') \\\n",
    "        .loc[test_item_ids] \\\n",
    "        .sort_index() \\\n",
    "        [['x_min', 'y_min', 'x_max', 'y_max']].values\n",
    "    \n",
    "    best_ious = np.array([\n",
    "        iou(reg[i], rhs[i]) for i in range(len(test_item_ids))\n",
    "    ], dtype=np.float)\n",
    "    \n",
    "    side_ious = np.array([\n",
    "        iou(lhs[i], rhs[i]) for i in range(len(test_item_ids))\n",
    "    ], dtype=np.float)\n",
    "    \n",
    "    print(f'best: miou = {best_ious.mean():.7f} ± {best_ious.std():.7f}')\n",
    "    print(f'size: miou = {side_ious.mean():.7f} ± {side_ious.std():.7f}')\n",
    "        \n",
    "    return best_ious, side_ious"
   ]
  },
  {
   "cell_type": "code",
   "execution_count": 26,
   "metadata": {
    "scrolled": false
   },
   "outputs": [
    {
     "name": "stdout",
     "output_type": "stream",
     "text": [
      "best: miou = 0.5626937 ± 0.1475962\n",
      "size: miou = 0.5462249 ± 0.1635298\n",
      "\n",
      "best: miou = 0.5663093 ± 0.1398724\n",
      "size: miou = 0.5548970 ± 0.1553087\n",
      "\n",
      "best: miou = 0.5518103 ± 0.1570857\n",
      "size: miou = 0.5446566 ± 0.1670989\n",
      "\n"
     ]
    }
   ],
   "source": [
    "for _ in range(3):\n",
    "    best_ious, side_ious = fit(data, target)\n",
    "    print()"
   ]
  },
  {
   "cell_type": "code",
   "execution_count": 27,
   "metadata": {},
   "outputs": [],
   "source": [
    "ious = np.vstack([best_ious, side_ious])"
   ]
  },
  {
   "cell_type": "code",
   "execution_count": 28,
   "metadata": {},
   "outputs": [
    {
     "data": {
      "image/png": "[encoded data removed]",
      "text/plain": [
       "<Figure size 1152x576 with 1 Axes>"
      ]
     },
     "metadata": {
      "needs_background": "light"
     },
     "output_type": "display_data"
    }
   ],
   "source": [
    "fig = plt.figure(figsize=(16, 8))\n",
    "\n",
    "ax = fig.add_subplot(1, 1, 1)\n",
    "ax.plot(sorted(ious[0, :]), label='best')\n",
    "ax.plot(sorted(ious[1, :]), label='side')\n",
    "ax.grid()\n",
    "ax.legend()\n",
    "ax.set_xlim(0)\n",
    "ax.set_ylim(0)\n",
    "\n",
    "plt.show()"
   ]
  },
  {
   "cell_type": "markdown",
   "metadata": {},
   "source": [
    "**NB** Такая модель работает несколько хуже, чем лучшая на данные момент. Тем не менее сделаем посылку, чтобы завалидировать качество модели."
   ]
  },
  {
   "cell_type": "code",
   "execution_count": 29,
   "metadata": {},
   "outputs": [],
   "source": [
    "subm = pd.read_parquet(join(DATADIR, 'test_data.parquet')) \\\n",
    "    .set_index(['item_id', 'user_id']) \\\n",
    "    .sort_index()"
   ]
  },
  {
   "cell_type": "code",
   "execution_count": 30,
   "metadata": {},
   "outputs": [
    {
     "data": {
      "text/html": [
       "<div>\n",
       "<style scoped>\n",
       "    .dataframe tbody tr th:only-of-type {\n",
       "        vertical-align: middle;\n",
       "    }\n",
       "\n",
       "    .dataframe tbody tr th {\n",
       "        vertical-align: top;\n",
       "    }\n",
       "\n",
       "    .dataframe thead th {\n",
       "        text-align: right;\n",
       "    }\n",
       "</style>\n",
       "<table border=\"1\" class=\"dataframe\">\n",
       "  <thead>\n",
       "    <tr style=\"text-align: right;\">\n",
       "      <th></th>\n",
       "      <th></th>\n",
       "      <th>x_min</th>\n",
       "      <th>y_min</th>\n",
       "      <th>x_max</th>\n",
       "      <th>y_max</th>\n",
       "      <th>x_cent</th>\n",
       "      <th>y_cent</th>\n",
       "    </tr>\n",
       "    <tr>\n",
       "      <th>item_id</th>\n",
       "      <th>user_id</th>\n",
       "      <th></th>\n",
       "      <th></th>\n",
       "      <th></th>\n",
       "      <th></th>\n",
       "      <th></th>\n",
       "      <th></th>\n",
       "    </tr>\n",
       "  </thead>\n",
       "  <tbody>\n",
       "    <tr>\n",
       "      <th rowspan=\"3\" valign=\"top\">5</th>\n",
       "      <th>141</th>\n",
       "      <td>210</td>\n",
       "      <td>925</td>\n",
       "      <td>483</td>\n",
       "      <td>1255</td>\n",
       "      <td>346.5</td>\n",
       "      <td>1090.0</td>\n",
       "    </tr>\n",
       "    <tr>\n",
       "      <th>903</th>\n",
       "      <td>151</td>\n",
       "      <td>917</td>\n",
       "      <td>511</td>\n",
       "      <td>1160</td>\n",
       "      <td>331.0</td>\n",
       "      <td>1038.5</td>\n",
       "    </tr>\n",
       "    <tr>\n",
       "      <th>1723</th>\n",
       "      <td>192</td>\n",
       "      <td>914</td>\n",
       "      <td>510</td>\n",
       "      <td>1331</td>\n",
       "      <td>351.0</td>\n",
       "      <td>1122.5</td>\n",
       "    </tr>\n",
       "    <tr>\n",
       "      <th rowspan=\"2\" valign=\"top\">10</th>\n",
       "      <th>141</th>\n",
       "      <td>95</td>\n",
       "      <td>559</td>\n",
       "      <td>427</td>\n",
       "      <td>852</td>\n",
       "      <td>261.0</td>\n",
       "      <td>705.5</td>\n",
       "    </tr>\n",
       "    <tr>\n",
       "      <th>903</th>\n",
       "      <td>72</td>\n",
       "      <td>570</td>\n",
       "      <td>420</td>\n",
       "      <td>858</td>\n",
       "      <td>246.0</td>\n",
       "      <td>714.0</td>\n",
       "    </tr>\n",
       "  </tbody>\n",
       "</table>\n",
       "</div>"
      ],
      "text/plain": [
       "                 x_min  y_min  x_max  y_max  x_cent  y_cent\n",
       "item_id user_id                                            \n",
       "5       141        210    925    483   1255   346.5  1090.0\n",
       "        903        151    917    511   1160   331.0  1038.5\n",
       "        1723       192    914    510   1331   351.0  1122.5\n",
       "10      141         95    559    427    852   261.0   705.5\n",
       "        903         72    570    420    858   246.0   714.0"
      ]
     },
     "execution_count": 30,
     "metadata": {},
     "output_type": "execute_result"
    }
   ],
   "source": [
    "data_all = user.copy().append(subm).sort_index()\n",
    "data_all[['x_cent', 'y_cent']] = data_all.apply(centering, axis=1, result_type='expand')\n",
    "data_all.head()"
   ]
  },
  {
   "cell_type": "code",
   "execution_count": 31,
   "metadata": {},
   "outputs": [
    {
     "data": {
      "text/html": [
       "<div>\n",
       "<style scoped>\n",
       "    .dataframe tbody tr th:only-of-type {\n",
       "        vertical-align: middle;\n",
       "    }\n",
       "\n",
       "    .dataframe tbody tr th {\n",
       "        vertical-align: top;\n",
       "    }\n",
       "\n",
       "    .dataframe thead th {\n",
       "        text-align: right;\n",
       "    }\n",
       "</style>\n",
       "<table border=\"1\" class=\"dataframe\">\n",
       "  <thead>\n",
       "    <tr style=\"text-align: right;\">\n",
       "      <th></th>\n",
       "      <th>x_min</th>\n",
       "      <th>y_min</th>\n",
       "      <th>x_max</th>\n",
       "      <th>y_max</th>\n",
       "      <th>x_cent</th>\n",
       "      <th>y_cent</th>\n",
       "      <th>dx</th>\n",
       "      <th>dy</th>\n",
       "    </tr>\n",
       "    <tr>\n",
       "      <th>item_id</th>\n",
       "      <th></th>\n",
       "      <th></th>\n",
       "      <th></th>\n",
       "      <th></th>\n",
       "      <th></th>\n",
       "      <th></th>\n",
       "      <th></th>\n",
       "      <th></th>\n",
       "    </tr>\n",
       "  </thead>\n",
       "  <tbody>\n",
       "    <tr>\n",
       "      <th>35685</th>\n",
       "      <td>0</td>\n",
       "      <td>0</td>\n",
       "      <td>0</td>\n",
       "      <td>0</td>\n",
       "      <td>0.0</td>\n",
       "      <td>0.0</td>\n",
       "      <td>0</td>\n",
       "      <td>0</td>\n",
       "    </tr>\n",
       "    <tr>\n",
       "      <th>35695</th>\n",
       "      <td>0</td>\n",
       "      <td>0</td>\n",
       "      <td>0</td>\n",
       "      <td>0</td>\n",
       "      <td>0.0</td>\n",
       "      <td>0.0</td>\n",
       "      <td>0</td>\n",
       "      <td>0</td>\n",
       "    </tr>\n",
       "    <tr>\n",
       "      <th>35966</th>\n",
       "      <td>0</td>\n",
       "      <td>0</td>\n",
       "      <td>0</td>\n",
       "      <td>0</td>\n",
       "      <td>0.0</td>\n",
       "      <td>0.0</td>\n",
       "      <td>0</td>\n",
       "      <td>0</td>\n",
       "    </tr>\n",
       "    <tr>\n",
       "      <th>35973</th>\n",
       "      <td>0</td>\n",
       "      <td>0</td>\n",
       "      <td>0</td>\n",
       "      <td>0</td>\n",
       "      <td>0.0</td>\n",
       "      <td>0.0</td>\n",
       "      <td>0</td>\n",
       "      <td>0</td>\n",
       "    </tr>\n",
       "    <tr>\n",
       "      <th>35978</th>\n",
       "      <td>0</td>\n",
       "      <td>0</td>\n",
       "      <td>0</td>\n",
       "      <td>0</td>\n",
       "      <td>0.0</td>\n",
       "      <td>0.0</td>\n",
       "      <td>0</td>\n",
       "      <td>0</td>\n",
       "    </tr>\n",
       "  </tbody>\n",
       "</table>\n",
       "</div>"
      ],
      "text/plain": [
       "         x_min  y_min  x_max  y_max  x_cent  y_cent  dx  dy\n",
       "item_id                                                    \n",
       "35685        0      0      0      0     0.0     0.0   0   0\n",
       "35695        0      0      0      0     0.0     0.0   0   0\n",
       "35966        0      0      0      0     0.0     0.0   0   0\n",
       "35973        0      0      0      0     0.0     0.0   0   0\n",
       "35978        0      0      0      0     0.0     0.0   0   0"
      ]
     },
     "execution_count": 31,
     "metadata": {},
     "output_type": "execute_result"
    }
   ],
   "source": [
    "target_all = true.copy().append(\n",
    "    pd.DataFrame(data=[[0, 0, 0, 0] for _ in subm.index.levels[0]],\n",
    "                 columns=subm.columns,\n",
    "                 index=subm.index.levels[0]))\n",
    "target_all[['x_cent', 'y_cent']] = target_all.apply(centering, axis=1, result_type='expand')\n",
    "target_all['dx'] = target_all.x_max - target_all.x_min\n",
    "target_all['dy'] = target_all.y_max - target_all.y_min\n",
    "target_all.tail()"
   ]
  },
  {
   "cell_type": "code",
   "execution_count": 32,
   "metadata": {},
   "outputs": [],
   "source": [
    "train_item_ids = true.index.values\n",
    "test_item_ids = subm.index.levels[0].values"
   ]
  },
  {
   "cell_type": "code",
   "execution_count": 33,
   "metadata": {
    "scrolled": false
   },
   "outputs": [
    {
     "data": {
      "text/html": [
       "<div>\n",
       "<style scoped>\n",
       "    .dataframe tbody tr th:only-of-type {\n",
       "        vertical-align: middle;\n",
       "    }\n",
       "\n",
       "    .dataframe tbody tr th {\n",
       "        vertical-align: top;\n",
       "    }\n",
       "\n",
       "    .dataframe thead th {\n",
       "        text-align: right;\n",
       "    }\n",
       "</style>\n",
       "<table border=\"1\" class=\"dataframe\">\n",
       "  <thead>\n",
       "    <tr style=\"text-align: right;\">\n",
       "      <th></th>\n",
       "      <th>x_cent</th>\n",
       "      <th>y_cent</th>\n",
       "      <th>dx</th>\n",
       "      <th>dy</th>\n",
       "      <th>x_min</th>\n",
       "      <th>x_max</th>\n",
       "      <th>y_min</th>\n",
       "      <th>y_max</th>\n",
       "    </tr>\n",
       "    <tr>\n",
       "      <th>item_id</th>\n",
       "      <th></th>\n",
       "      <th></th>\n",
       "      <th></th>\n",
       "      <th></th>\n",
       "      <th></th>\n",
       "      <th></th>\n",
       "      <th></th>\n",
       "      <th></th>\n",
       "    </tr>\n",
       "  </thead>\n",
       "  <tbody>\n",
       "    <tr>\n",
       "      <th>18</th>\n",
       "      <td>415.076493</td>\n",
       "      <td>886.821175</td>\n",
       "      <td>581.746671</td>\n",
       "      <td>488.239415</td>\n",
       "      <td>124.203157</td>\n",
       "      <td>705.949828</td>\n",
       "      <td>642.701468</td>\n",
       "      <td>1130.940883</td>\n",
       "    </tr>\n",
       "    <tr>\n",
       "      <th>19</th>\n",
       "      <td>86.937229</td>\n",
       "      <td>626.588853</td>\n",
       "      <td>114.565011</td>\n",
       "      <td>97.784931</td>\n",
       "      <td>29.654724</td>\n",
       "      <td>144.219735</td>\n",
       "      <td>577.696388</td>\n",
       "      <td>675.481319</td>\n",
       "    </tr>\n",
       "    <tr>\n",
       "      <th>33</th>\n",
       "      <td>227.805992</td>\n",
       "      <td>522.431683</td>\n",
       "      <td>333.058928</td>\n",
       "      <td>275.460281</td>\n",
       "      <td>61.276528</td>\n",
       "      <td>394.335456</td>\n",
       "      <td>384.701542</td>\n",
       "      <td>660.161824</td>\n",
       "    </tr>\n",
       "    <tr>\n",
       "      <th>62</th>\n",
       "      <td>332.948431</td>\n",
       "      <td>1056.952019</td>\n",
       "      <td>511.139386</td>\n",
       "      <td>460.490102</td>\n",
       "      <td>77.378738</td>\n",
       "      <td>588.518124</td>\n",
       "      <td>826.706968</td>\n",
       "      <td>1287.197070</td>\n",
       "    </tr>\n",
       "    <tr>\n",
       "      <th>114</th>\n",
       "      <td>138.614491</td>\n",
       "      <td>660.641151</td>\n",
       "      <td>176.771642</td>\n",
       "      <td>145.454123</td>\n",
       "      <td>50.228670</td>\n",
       "      <td>227.000312</td>\n",
       "      <td>587.914089</td>\n",
       "      <td>733.368213</td>\n",
       "    </tr>\n",
       "  </tbody>\n",
       "</table>\n",
       "</div>"
      ],
      "text/plain": [
       "             x_cent       y_cent          dx          dy       x_min  \\\n",
       "item_id                                                                \n",
       "18       415.076493   886.821175  581.746671  488.239415  124.203157   \n",
       "19        86.937229   626.588853  114.565011   97.784931   29.654724   \n",
       "33       227.805992   522.431683  333.058928  275.460281   61.276528   \n",
       "62       332.948431  1056.952019  511.139386  460.490102   77.378738   \n",
       "114      138.614491   660.641151  176.771642  145.454123   50.228670   \n",
       "\n",
       "              x_max       y_min        y_max  \n",
       "item_id                                       \n",
       "18       705.949828  642.701468  1130.940883  \n",
       "19       144.219735  577.696388   675.481319  \n",
       "33       394.335456  384.701542   660.161824  \n",
       "62       588.518124  826.706968  1287.197070  \n",
       "114      227.000312  587.914089   733.368213  "
      ]
     },
     "execution_count": 33,
     "metadata": {},
     "output_type": "execute_result"
    }
   ],
   "source": [
    "origin = fit_origin(data_all, target_all, train_item_ids, test_item_ids)\n",
    "sides = fit_sides(data_all, origin, target_all, train_item_ids, test_item_ids)\n",
    "\n",
    "boxes = pd.merge(origin, sides, how='right', left_index=True, right_index=True)\n",
    "boxes['x_min'] = boxes.x_cent - boxes.dx / 2\n",
    "boxes['x_max'] = boxes.x_cent + boxes.dx / 2\n",
    "boxes['y_min'] = boxes.y_cent - boxes.dy / 2\n",
    "boxes['y_max'] = boxes.y_cent + boxes.dy / 2\n",
    "boxes = boxes.sort_index()\n",
    "boxes.head()"
   ]
  },
  {
   "cell_type": "code",
   "execution_count": 34,
   "metadata": {},
   "outputs": [],
   "source": [
    "boxes[['x_min', 'y_min', 'x_max', 'y_max']].to_csv(\n",
    "    path_or_buf=join(DATADIR, 'submissions/submission023.csv'),\n",
    "    header=False,\n",
    "    index=True,\n",
    ")"
   ]
  },
  {
   "cell_type": "markdown",
   "metadata": {},
   "source": [
    "К сожаление посылка только улучшила второй результат."
   ]
  },
  {
   "cell_type": "markdown",
   "metadata": {},
   "source": [
    "## Предсказывание центра и сторон напрямую"
   ]
  },
  {
   "cell_type": "markdown",
   "metadata": {},
   "source": [
    "Вместо того, чтобы предсказывать положение центра и размеры сторон последовательно двумя моделями, можно попытаться предсказать положение центра и размеры сторон напрямую."
   ]
  },
  {
   "cell_type": "code",
   "execution_count": 35,
   "metadata": {
    "scrolled": false
   },
   "outputs": [],
   "source": [
    "def fit_direct(data_all, target_all, train_item_ids, test_item_ids):\n",
    "    feats = data_all.copy() \\\n",
    "        .groupby('item_id') \\\n",
    "        .aggregate({'x_min': np.min,\n",
    "                    'y_min': np.min,\n",
    "                    'x_max': np.max,\n",
    "                    'y_max': np.max,\n",
    "                    'x_cent': np.mean,\n",
    "                    'y_cent': np.mean})\n",
    "\n",
    "    est = LinearRegression(\n",
    "        normalize=True,\n",
    "    ).fit(feats.loc[train_item_ids].values,\n",
    "          target_all.loc[train_item_ids][['x_cent', 'y_cent', 'dx', 'dy']].values)\n",
    "\n",
    "    res = pd.DataFrame(data=est.predict(feats.loc[test_item_ids].values),\n",
    "                       index=test_item_ids,\n",
    "                       columns=['x_cent', 'y_cent', 'dx', 'dy'])\n",
    "    res.index.set_names('item_id', inplace=True)\n",
    "    res['x_min'] = res.x_cent - res.dx / 2\n",
    "    res['x_max'] = res.x_cent + res.dx / 2\n",
    "    res['y_min'] = res.y_cent - res.dy / 2\n",
    "    res['y_max'] = res.y_cent + res.dy / 2\n",
    "    res = res.sort_index()\n",
    "    \n",
    "    iou = miou(res[['x_min', 'y_min', 'x_max', 'y_max']].reset_index(),\n",
    "               target_all.loc[test_item_ids][['x_min', 'y_min', 'x_max', 'y_max']].reset_index())\n",
    "\n",
    "    return iou, res[['x_min', 'y_min', 'x_max', 'y_max']].sort_index().copy()"
   ]
  },
  {
   "cell_type": "code",
   "execution_count": 36,
   "metadata": {
    "scrolled": false
   },
   "outputs": [
    {
     "name": "stderr",
     "output_type": "stream",
     "text": [
      "100%|██████████| 10/10 [00:01<00:00,  7.06attempt/s]"
     ]
    },
    {
     "name": "stdout",
     "output_type": "stream",
     "text": [
      "0.5622137 ± 0.008767399346018279\n"
     ]
    },
    {
     "name": "stderr",
     "output_type": "stream",
     "text": [
      "\n"
     ]
    }
   ],
   "source": [
    "ious = np.zeros(10, dtype=np.float)\n",
    "\n",
    "for i in tqdm(range(ious.size), unit='attempt'):\n",
    "    ious[i], _ = fit_direct(data_all.loc[train_item_ids].copy(),\n",
    "                            target_all.loc[train_item_ids].copy(),\n",
    "                            *train_test_split(train_item_ids, train_size=0.7))\n",
    "    \n",
    "print(f'{ious.mean():.7f} ± {ious.std()}')"
   ]
  },
  {
   "cell_type": "markdown",
   "metadata": {},
   "source": [
    "**NB** Качество всё равно хуже, чем качество лучшей модели, но лучше, чем качество модели, предсказывающей центр и стороны последовательно. Здесь мы тоже попробуем завалидировать посылкой."
   ]
  },
  {
   "cell_type": "code",
   "execution_count": 37,
   "metadata": {},
   "outputs": [],
   "source": [
    "_, frame = fit_direct(data_all, target_all,\n",
    "                      train_item_ids, test_item_ids)\n",
    "frame.to_csv(join(DATADIR, 'submissions/submision024.csv'), index=True, header=False)"
   ]
  },
  {
   "cell_type": "markdown",
   "metadata": {},
   "source": [
    "К сожалению, получилось улучшить лишь второй результат."
   ]
  },
  {
   "cell_type": "markdown",
   "metadata": {},
   "source": [
    "## Комментарии и обсуждение"
   ]
  },
  {
   "cell_type": "markdown",
   "metadata": {},
   "source": [
    "Принципиально лучшего качество получить не удалось, но удалось приблизиться к лучшему решению на данные момент. Вероятно, что проблема, почему не получилось сделать лучше та же, что и в общем случае: недостаток данных и шумная выборка."
   ]
  }
 ],
 "metadata": {
  "kernelspec": {
   "display_name": "[ML Bootcamp]",
   "language": "python",
   "name": "python-mlbootcamp"
  },
  "language_info": {
   "codemirror_mode": {
    "name": "ipython",
    "version": 3
   },
   "file_extension": ".py",
   "mimetype": "text/x-python",
   "name": "python",
   "nbconvert_exporter": "python",
   "pygments_lexer": "ipython3",
   "version": "3.7.3"
  }
 },
 "nbformat": 4,
 "nbformat_minor": 2
}
